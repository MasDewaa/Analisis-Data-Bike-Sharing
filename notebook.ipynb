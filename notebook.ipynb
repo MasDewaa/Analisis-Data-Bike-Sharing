{
  "cells": [
    {
      "cell_type": "markdown",
      "metadata": {
        "id": "H9wADwK78DCz"
      },
      "source": [
        "# Proyek Analisis Data: [*Bike Sharing Dataset*]\n",
        "- **Nama:** [Rama Syailana Dewa]\n",
        "- **Email:** [ramasyailana3@gmail.com]\n",
        "- **ID Dicoding:** [masdewa]"
      ]
    },
    {
      "cell_type": "markdown",
      "metadata": {
        "id": "eE0raob58DC0"
      },
      "source": [
        "## Menentukan Pertanyaan Bisnis"
      ]
    },
    {
      "cell_type": "markdown",
      "metadata": {
        "id": "GmQeQ5YF8DC0"
      },
      "source": [
        "- Apakah cuara berpengaruh terhadap jumalah pengguna sepeda?\n",
        "- Bagaimana tren penggunaan sepeda dalam tahun 2011 dan 2012 mana yang lebih unggul ?\n",
        "- Bagaimana pengaruh temp, atemp serta humidity terhadap jumlah total pengguna sepeda ?\n",
        "- apakah ada pengaruh musim terhadap penyewa sepeda baik Casual dan Registered ?"
      ]
    },
    {
      "cell_type": "markdown",
      "metadata": {
        "id": "H-z4QGlO8DC1"
      },
      "source": [
        "## Import Semua Packages/Library yang Digunakan"
      ]
    },
    {
      "cell_type": "code",
      "execution_count": 99,
      "metadata": {
        "id": "FVYwaObI8DC1"
      },
      "outputs": [],
      "source": [
        "import numpy as np\n",
        "import pandas as pd\n",
        "import matplotlib.pyplot as plt\n",
        "import seaborn as sns\n",
        "from datetime import datetime"
      ]
    },
    {
      "cell_type": "markdown",
      "metadata": {
        "id": "XwlBfjO_1K2M"
      },
      "source": [
        "Mengimport semua library yang dibutuhkan dalam Analisis Data"
      ]
    },
    {
      "cell_type": "markdown",
      "metadata": {
        "id": "h_Sh51Xy8DC1"
      },
      "source": [
        "## Data Wrangling"
      ]
    },
    {
      "cell_type": "markdown",
      "metadata": {
        "id": "sXU2GBYu8DC1"
      },
      "source": [
        "### Gathering Data"
      ]
    },
    {
      "cell_type": "markdown",
      "metadata": {},
      "source": [
        "- Pada tahap ini kita akan mengumpulkan data yang kita butuhkan. Karena saya memilih Bike Sharing Dataset, maka saya mengimpor file day.csv dan hr.csv"
      ]
    },
    {
      "cell_type": "markdown",
      "metadata": {
        "id": "bUQYqu061aBN"
      },
      "source": [
        "**Load tabel day**"
      ]
    },
    {
      "cell_type": "code",
      "execution_count": 100,
      "metadata": {
        "colab": {
          "base_uri": "https://localhost:8080/",
          "height": 313
        },
        "id": "zjCBk1BI8DC1",
        "outputId": "82ba6be4-5c23-4ba0-d3dc-755edaf46898"
      },
      "outputs": [
        {
          "data": {
            "text/html": [
              "<div>\n",
              "<style scoped>\n",
              "    .dataframe tbody tr th:only-of-type {\n",
              "        vertical-align: middle;\n",
              "    }\n",
              "\n",
              "    .dataframe tbody tr th {\n",
              "        vertical-align: top;\n",
              "    }\n",
              "\n",
              "    .dataframe thead th {\n",
              "        text-align: right;\n",
              "    }\n",
              "</style>\n",
              "<table border=\"1\" class=\"dataframe\">\n",
              "  <thead>\n",
              "    <tr style=\"text-align: right;\">\n",
              "      <th></th>\n",
              "      <th>instant</th>\n",
              "      <th>dteday</th>\n",
              "      <th>season</th>\n",
              "      <th>yr</th>\n",
              "      <th>mnth</th>\n",
              "      <th>holiday</th>\n",
              "      <th>weekday</th>\n",
              "      <th>workingday</th>\n",
              "      <th>weathersit</th>\n",
              "      <th>temp</th>\n",
              "      <th>atemp</th>\n",
              "      <th>hum</th>\n",
              "      <th>windspeed</th>\n",
              "      <th>casual</th>\n",
              "      <th>registered</th>\n",
              "      <th>cnt</th>\n",
              "    </tr>\n",
              "  </thead>\n",
              "  <tbody>\n",
              "    <tr>\n",
              "      <th>0</th>\n",
              "      <td>1</td>\n",
              "      <td>2011-01-01</td>\n",
              "      <td>1</td>\n",
              "      <td>0</td>\n",
              "      <td>1</td>\n",
              "      <td>0</td>\n",
              "      <td>6</td>\n",
              "      <td>0</td>\n",
              "      <td>2</td>\n",
              "      <td>0.344167</td>\n",
              "      <td>0.363625</td>\n",
              "      <td>0.805833</td>\n",
              "      <td>0.160446</td>\n",
              "      <td>331</td>\n",
              "      <td>654</td>\n",
              "      <td>985</td>\n",
              "    </tr>\n",
              "    <tr>\n",
              "      <th>1</th>\n",
              "      <td>2</td>\n",
              "      <td>2011-01-02</td>\n",
              "      <td>1</td>\n",
              "      <td>0</td>\n",
              "      <td>1</td>\n",
              "      <td>0</td>\n",
              "      <td>0</td>\n",
              "      <td>0</td>\n",
              "      <td>2</td>\n",
              "      <td>0.363478</td>\n",
              "      <td>0.353739</td>\n",
              "      <td>0.696087</td>\n",
              "      <td>0.248539</td>\n",
              "      <td>131</td>\n",
              "      <td>670</td>\n",
              "      <td>801</td>\n",
              "    </tr>\n",
              "    <tr>\n",
              "      <th>2</th>\n",
              "      <td>3</td>\n",
              "      <td>2011-01-03</td>\n",
              "      <td>1</td>\n",
              "      <td>0</td>\n",
              "      <td>1</td>\n",
              "      <td>0</td>\n",
              "      <td>1</td>\n",
              "      <td>1</td>\n",
              "      <td>1</td>\n",
              "      <td>0.196364</td>\n",
              "      <td>0.189405</td>\n",
              "      <td>0.437273</td>\n",
              "      <td>0.248309</td>\n",
              "      <td>120</td>\n",
              "      <td>1229</td>\n",
              "      <td>1349</td>\n",
              "    </tr>\n",
              "    <tr>\n",
              "      <th>3</th>\n",
              "      <td>4</td>\n",
              "      <td>2011-01-04</td>\n",
              "      <td>1</td>\n",
              "      <td>0</td>\n",
              "      <td>1</td>\n",
              "      <td>0</td>\n",
              "      <td>2</td>\n",
              "      <td>1</td>\n",
              "      <td>1</td>\n",
              "      <td>0.200000</td>\n",
              "      <td>0.212122</td>\n",
              "      <td>0.590435</td>\n",
              "      <td>0.160296</td>\n",
              "      <td>108</td>\n",
              "      <td>1454</td>\n",
              "      <td>1562</td>\n",
              "    </tr>\n",
              "    <tr>\n",
              "      <th>4</th>\n",
              "      <td>5</td>\n",
              "      <td>2011-01-05</td>\n",
              "      <td>1</td>\n",
              "      <td>0</td>\n",
              "      <td>1</td>\n",
              "      <td>0</td>\n",
              "      <td>3</td>\n",
              "      <td>1</td>\n",
              "      <td>1</td>\n",
              "      <td>0.226957</td>\n",
              "      <td>0.229270</td>\n",
              "      <td>0.436957</td>\n",
              "      <td>0.186900</td>\n",
              "      <td>82</td>\n",
              "      <td>1518</td>\n",
              "      <td>1600</td>\n",
              "    </tr>\n",
              "  </tbody>\n",
              "</table>\n",
              "</div>"
            ],
            "text/plain": [
              "   instant      dteday  season  yr  mnth  holiday  weekday  workingday  \\\n",
              "0        1  2011-01-01       1   0     1        0        6           0   \n",
              "1        2  2011-01-02       1   0     1        0        0           0   \n",
              "2        3  2011-01-03       1   0     1        0        1           1   \n",
              "3        4  2011-01-04       1   0     1        0        2           1   \n",
              "4        5  2011-01-05       1   0     1        0        3           1   \n",
              "\n",
              "   weathersit      temp     atemp       hum  windspeed  casual  registered  \\\n",
              "0           2  0.344167  0.363625  0.805833   0.160446     331         654   \n",
              "1           2  0.363478  0.353739  0.696087   0.248539     131         670   \n",
              "2           1  0.196364  0.189405  0.437273   0.248309     120        1229   \n",
              "3           1  0.200000  0.212122  0.590435   0.160296     108        1454   \n",
              "4           1  0.226957  0.229270  0.436957   0.186900      82        1518   \n",
              "\n",
              "    cnt  \n",
              "0   985  \n",
              "1   801  \n",
              "2  1349  \n",
              "3  1562  \n",
              "4  1600  "
            ]
          },
          "execution_count": 100,
          "metadata": {},
          "output_type": "execute_result"
        }
      ],
      "source": [
        "day_df = pd.read_csv(\"./Bike-sharing-dataset/day.csv\")\n",
        "day_df.head()"
      ]
    },
    {
      "cell_type": "markdown",
      "metadata": {
        "id": "kQ9qSfgN1dBO"
      },
      "source": [
        "**Load tabel hr**"
      ]
    },
    {
      "cell_type": "code",
      "execution_count": 101,
      "metadata": {
        "colab": {
          "base_uri": "https://localhost:8080/",
          "height": 293
        },
        "id": "kSK8WirP1ZJI",
        "outputId": "321dd2bc-56f5-45e4-ce0f-99ba1018e38a"
      },
      "outputs": [
        {
          "data": {
            "text/html": [
              "<div>\n",
              "<style scoped>\n",
              "    .dataframe tbody tr th:only-of-type {\n",
              "        vertical-align: middle;\n",
              "    }\n",
              "\n",
              "    .dataframe tbody tr th {\n",
              "        vertical-align: top;\n",
              "    }\n",
              "\n",
              "    .dataframe thead th {\n",
              "        text-align: right;\n",
              "    }\n",
              "</style>\n",
              "<table border=\"1\" class=\"dataframe\">\n",
              "  <thead>\n",
              "    <tr style=\"text-align: right;\">\n",
              "      <th></th>\n",
              "      <th>instant</th>\n",
              "      <th>dteday</th>\n",
              "      <th>season</th>\n",
              "      <th>yr</th>\n",
              "      <th>mnth</th>\n",
              "      <th>hr</th>\n",
              "      <th>holiday</th>\n",
              "      <th>weekday</th>\n",
              "      <th>workingday</th>\n",
              "      <th>weathersit</th>\n",
              "      <th>temp</th>\n",
              "      <th>atemp</th>\n",
              "      <th>hum</th>\n",
              "      <th>windspeed</th>\n",
              "      <th>casual</th>\n",
              "      <th>registered</th>\n",
              "      <th>cnt</th>\n",
              "    </tr>\n",
              "  </thead>\n",
              "  <tbody>\n",
              "    <tr>\n",
              "      <th>0</th>\n",
              "      <td>1</td>\n",
              "      <td>2011-01-01</td>\n",
              "      <td>1</td>\n",
              "      <td>0</td>\n",
              "      <td>1</td>\n",
              "      <td>0</td>\n",
              "      <td>0</td>\n",
              "      <td>6</td>\n",
              "      <td>0</td>\n",
              "      <td>1</td>\n",
              "      <td>0.24</td>\n",
              "      <td>0.2879</td>\n",
              "      <td>0.81</td>\n",
              "      <td>0.0</td>\n",
              "      <td>3</td>\n",
              "      <td>13</td>\n",
              "      <td>16</td>\n",
              "    </tr>\n",
              "    <tr>\n",
              "      <th>1</th>\n",
              "      <td>2</td>\n",
              "      <td>2011-01-01</td>\n",
              "      <td>1</td>\n",
              "      <td>0</td>\n",
              "      <td>1</td>\n",
              "      <td>1</td>\n",
              "      <td>0</td>\n",
              "      <td>6</td>\n",
              "      <td>0</td>\n",
              "      <td>1</td>\n",
              "      <td>0.22</td>\n",
              "      <td>0.2727</td>\n",
              "      <td>0.80</td>\n",
              "      <td>0.0</td>\n",
              "      <td>8</td>\n",
              "      <td>32</td>\n",
              "      <td>40</td>\n",
              "    </tr>\n",
              "    <tr>\n",
              "      <th>2</th>\n",
              "      <td>3</td>\n",
              "      <td>2011-01-01</td>\n",
              "      <td>1</td>\n",
              "      <td>0</td>\n",
              "      <td>1</td>\n",
              "      <td>2</td>\n",
              "      <td>0</td>\n",
              "      <td>6</td>\n",
              "      <td>0</td>\n",
              "      <td>1</td>\n",
              "      <td>0.22</td>\n",
              "      <td>0.2727</td>\n",
              "      <td>0.80</td>\n",
              "      <td>0.0</td>\n",
              "      <td>5</td>\n",
              "      <td>27</td>\n",
              "      <td>32</td>\n",
              "    </tr>\n",
              "    <tr>\n",
              "      <th>3</th>\n",
              "      <td>4</td>\n",
              "      <td>2011-01-01</td>\n",
              "      <td>1</td>\n",
              "      <td>0</td>\n",
              "      <td>1</td>\n",
              "      <td>3</td>\n",
              "      <td>0</td>\n",
              "      <td>6</td>\n",
              "      <td>0</td>\n",
              "      <td>1</td>\n",
              "      <td>0.24</td>\n",
              "      <td>0.2879</td>\n",
              "      <td>0.75</td>\n",
              "      <td>0.0</td>\n",
              "      <td>3</td>\n",
              "      <td>10</td>\n",
              "      <td>13</td>\n",
              "    </tr>\n",
              "    <tr>\n",
              "      <th>4</th>\n",
              "      <td>5</td>\n",
              "      <td>2011-01-01</td>\n",
              "      <td>1</td>\n",
              "      <td>0</td>\n",
              "      <td>1</td>\n",
              "      <td>4</td>\n",
              "      <td>0</td>\n",
              "      <td>6</td>\n",
              "      <td>0</td>\n",
              "      <td>1</td>\n",
              "      <td>0.24</td>\n",
              "      <td>0.2879</td>\n",
              "      <td>0.75</td>\n",
              "      <td>0.0</td>\n",
              "      <td>0</td>\n",
              "      <td>1</td>\n",
              "      <td>1</td>\n",
              "    </tr>\n",
              "  </tbody>\n",
              "</table>\n",
              "</div>"
            ],
            "text/plain": [
              "   instant      dteday  season  yr  mnth  hr  holiday  weekday  workingday  \\\n",
              "0        1  2011-01-01       1   0     1   0        0        6           0   \n",
              "1        2  2011-01-01       1   0     1   1        0        6           0   \n",
              "2        3  2011-01-01       1   0     1   2        0        6           0   \n",
              "3        4  2011-01-01       1   0     1   3        0        6           0   \n",
              "4        5  2011-01-01       1   0     1   4        0        6           0   \n",
              "\n",
              "   weathersit  temp   atemp   hum  windspeed  casual  registered  cnt  \n",
              "0           1  0.24  0.2879  0.81        0.0       3          13   16  \n",
              "1           1  0.22  0.2727  0.80        0.0       8          32   40  \n",
              "2           1  0.22  0.2727  0.80        0.0       5          27   32  \n",
              "3           1  0.24  0.2879  0.75        0.0       3          10   13  \n",
              "4           1  0.24  0.2879  0.75        0.0       0           1    1  "
            ]
          },
          "execution_count": 101,
          "metadata": {},
          "output_type": "execute_result"
        }
      ],
      "source": [
        "hr_df = pd.read_csv(\"./Bike-sharing-dataset/hour.csv\")\n",
        "hr_df.head()"
      ]
    },
    {
      "cell_type": "markdown",
      "metadata": {
        "id": "MMi6xGaDkbCi"
      },
      "source": [
        "**Insight:**\n",
        "- Pada tahap ini kita telah mengumpulkan data yang kita butuhkan. Yaitu, file day.csv dan hr.csv"
      ]
    },
    {
      "cell_type": "markdown",
      "metadata": {
        "id": "FHSiqaZp8DC1"
      },
      "source": [
        "### Assessing Data"
      ]
    },
    {
      "cell_type": "markdown",
      "metadata": {
        "id": "cBaJB2GR1zoY"
      },
      "source": [
        "**Asses day_df**\n",
        "\n",
        "1. Mengecek tipe data day_df"
      ]
    },
    {
      "cell_type": "code",
      "execution_count": 102,
      "metadata": {
        "colab": {
          "base_uri": "https://localhost:8080/"
        },
        "id": "ax-3tEjc9Cj1",
        "outputId": "b72349ba-e522-4179-cd3b-1a18ba60b45c"
      },
      "outputs": [
        {
          "name": "stdout",
          "output_type": "stream",
          "text": [
            "<class 'pandas.core.frame.DataFrame'>\n",
            "RangeIndex: 731 entries, 0 to 730\n",
            "Data columns (total 16 columns):\n",
            " #   Column      Non-Null Count  Dtype  \n",
            "---  ------      --------------  -----  \n",
            " 0   instant     731 non-null    int64  \n",
            " 1   dteday      731 non-null    object \n",
            " 2   season      731 non-null    int64  \n",
            " 3   yr          731 non-null    int64  \n",
            " 4   mnth        731 non-null    int64  \n",
            " 5   holiday     731 non-null    int64  \n",
            " 6   weekday     731 non-null    int64  \n",
            " 7   workingday  731 non-null    int64  \n",
            " 8   weathersit  731 non-null    int64  \n",
            " 9   temp        731 non-null    float64\n",
            " 10  atemp       731 non-null    float64\n",
            " 11  hum         731 non-null    float64\n",
            " 12  windspeed   731 non-null    float64\n",
            " 13  casual      731 non-null    int64  \n",
            " 14  registered  731 non-null    int64  \n",
            " 15  cnt         731 non-null    int64  \n",
            "dtypes: float64(4), int64(11), object(1)\n",
            "memory usage: 91.5+ KB\n"
          ]
        }
      ],
      "source": [
        "day_df.info()"
      ]
    },
    {
      "cell_type": "markdown",
      "metadata": {},
      "source": [
        "Dapat kita lihat diatas, terdapat 1 tipe data berdasarkan kolomnya yang tidak sesuai. Data yang perlu diperbaiki adalah: dteday -> datetime"
      ]
    },
    {
      "cell_type": "markdown",
      "metadata": {
        "id": "I6YpI2D819Er"
      },
      "source": [
        "2. Mengecek apakah ada missing values"
      ]
    },
    {
      "cell_type": "code",
      "execution_count": 103,
      "metadata": {
        "colab": {
          "base_uri": "https://localhost:8080/",
          "height": 585
        },
        "id": "2opWCNjv2AnL",
        "outputId": "7333b7e4-9af6-4923-cd9a-f1e4499a4adf"
      },
      "outputs": [
        {
          "data": {
            "text/plain": [
              "instant       0\n",
              "dteday        0\n",
              "season        0\n",
              "yr            0\n",
              "mnth          0\n",
              "holiday       0\n",
              "weekday       0\n",
              "workingday    0\n",
              "weathersit    0\n",
              "temp          0\n",
              "atemp         0\n",
              "hum           0\n",
              "windspeed     0\n",
              "casual        0\n",
              "registered    0\n",
              "cnt           0\n",
              "dtype: int64"
            ]
          },
          "execution_count": 103,
          "metadata": {},
          "output_type": "execute_result"
        }
      ],
      "source": [
        "day_df.isna().sum()"
      ]
    },
    {
      "cell_type": "markdown",
      "metadata": {},
      "source": [
        "Dapat kita simpulkan bahwa tabel hr_df tidak ada missing values, berarti aman."
      ]
    },
    {
      "cell_type": "markdown",
      "metadata": {
        "id": "pfL9qYK22Jsk"
      },
      "source": [
        "3. Mengecek apakah ada duplicate data"
      ]
    },
    {
      "cell_type": "code",
      "execution_count": 104,
      "metadata": {
        "colab": {
          "base_uri": "https://localhost:8080/"
        },
        "id": "Gu2z6mBJ2AlF",
        "outputId": "ea99de60-ec07-49d0-9d71-c106482dfc84"
      },
      "outputs": [
        {
          "name": "stdout",
          "output_type": "stream",
          "text": [
            "Jumlah duplikasi data:  0\n"
          ]
        }
      ],
      "source": [
        "print(\"Jumlah duplikasi data: \", day_df.duplicated().sum())"
      ]
    },
    {
      "cell_type": "markdown",
      "metadata": {},
      "source": [
        "dataset ini tidak ada data yang duplikat"
      ]
    },
    {
      "cell_type": "markdown",
      "metadata": {
        "id": "ugvX_bIb2M8l"
      },
      "source": [
        "4. Mengecek apakah terdapat keanehan pada nilai statistiknya"
      ]
    },
    {
      "cell_type": "code",
      "execution_count": 105,
      "metadata": {
        "colab": {
          "base_uri": "https://localhost:8080/",
          "height": 320
        },
        "id": "Z94cIv_O2Aif",
        "outputId": "179d1d63-c125-4aa7-d961-9d48b3d2f9de"
      },
      "outputs": [
        {
          "data": {
            "text/html": [
              "<div>\n",
              "<style scoped>\n",
              "    .dataframe tbody tr th:only-of-type {\n",
              "        vertical-align: middle;\n",
              "    }\n",
              "\n",
              "    .dataframe tbody tr th {\n",
              "        vertical-align: top;\n",
              "    }\n",
              "\n",
              "    .dataframe thead th {\n",
              "        text-align: right;\n",
              "    }\n",
              "</style>\n",
              "<table border=\"1\" class=\"dataframe\">\n",
              "  <thead>\n",
              "    <tr style=\"text-align: right;\">\n",
              "      <th></th>\n",
              "      <th>instant</th>\n",
              "      <th>season</th>\n",
              "      <th>yr</th>\n",
              "      <th>mnth</th>\n",
              "      <th>holiday</th>\n",
              "      <th>weekday</th>\n",
              "      <th>workingday</th>\n",
              "      <th>weathersit</th>\n",
              "      <th>temp</th>\n",
              "      <th>atemp</th>\n",
              "      <th>hum</th>\n",
              "      <th>windspeed</th>\n",
              "      <th>casual</th>\n",
              "      <th>registered</th>\n",
              "      <th>cnt</th>\n",
              "    </tr>\n",
              "  </thead>\n",
              "  <tbody>\n",
              "    <tr>\n",
              "      <th>count</th>\n",
              "      <td>731.000000</td>\n",
              "      <td>731.000000</td>\n",
              "      <td>731.000000</td>\n",
              "      <td>731.000000</td>\n",
              "      <td>731.000000</td>\n",
              "      <td>731.000000</td>\n",
              "      <td>731.000000</td>\n",
              "      <td>731.000000</td>\n",
              "      <td>731.000000</td>\n",
              "      <td>731.000000</td>\n",
              "      <td>731.000000</td>\n",
              "      <td>731.000000</td>\n",
              "      <td>731.000000</td>\n",
              "      <td>731.000000</td>\n",
              "      <td>731.000000</td>\n",
              "    </tr>\n",
              "    <tr>\n",
              "      <th>mean</th>\n",
              "      <td>366.000000</td>\n",
              "      <td>2.496580</td>\n",
              "      <td>0.500684</td>\n",
              "      <td>6.519836</td>\n",
              "      <td>0.028728</td>\n",
              "      <td>2.997264</td>\n",
              "      <td>0.683995</td>\n",
              "      <td>1.395349</td>\n",
              "      <td>0.495385</td>\n",
              "      <td>0.474354</td>\n",
              "      <td>0.627894</td>\n",
              "      <td>0.190486</td>\n",
              "      <td>848.176471</td>\n",
              "      <td>3656.172367</td>\n",
              "      <td>4504.348837</td>\n",
              "    </tr>\n",
              "    <tr>\n",
              "      <th>std</th>\n",
              "      <td>211.165812</td>\n",
              "      <td>1.110807</td>\n",
              "      <td>0.500342</td>\n",
              "      <td>3.451913</td>\n",
              "      <td>0.167155</td>\n",
              "      <td>2.004787</td>\n",
              "      <td>0.465233</td>\n",
              "      <td>0.544894</td>\n",
              "      <td>0.183051</td>\n",
              "      <td>0.162961</td>\n",
              "      <td>0.142429</td>\n",
              "      <td>0.077498</td>\n",
              "      <td>686.622488</td>\n",
              "      <td>1560.256377</td>\n",
              "      <td>1937.211452</td>\n",
              "    </tr>\n",
              "    <tr>\n",
              "      <th>min</th>\n",
              "      <td>1.000000</td>\n",
              "      <td>1.000000</td>\n",
              "      <td>0.000000</td>\n",
              "      <td>1.000000</td>\n",
              "      <td>0.000000</td>\n",
              "      <td>0.000000</td>\n",
              "      <td>0.000000</td>\n",
              "      <td>1.000000</td>\n",
              "      <td>0.059130</td>\n",
              "      <td>0.079070</td>\n",
              "      <td>0.000000</td>\n",
              "      <td>0.022392</td>\n",
              "      <td>2.000000</td>\n",
              "      <td>20.000000</td>\n",
              "      <td>22.000000</td>\n",
              "    </tr>\n",
              "    <tr>\n",
              "      <th>25%</th>\n",
              "      <td>183.500000</td>\n",
              "      <td>2.000000</td>\n",
              "      <td>0.000000</td>\n",
              "      <td>4.000000</td>\n",
              "      <td>0.000000</td>\n",
              "      <td>1.000000</td>\n",
              "      <td>0.000000</td>\n",
              "      <td>1.000000</td>\n",
              "      <td>0.337083</td>\n",
              "      <td>0.337842</td>\n",
              "      <td>0.520000</td>\n",
              "      <td>0.134950</td>\n",
              "      <td>315.500000</td>\n",
              "      <td>2497.000000</td>\n",
              "      <td>3152.000000</td>\n",
              "    </tr>\n",
              "    <tr>\n",
              "      <th>50%</th>\n",
              "      <td>366.000000</td>\n",
              "      <td>3.000000</td>\n",
              "      <td>1.000000</td>\n",
              "      <td>7.000000</td>\n",
              "      <td>0.000000</td>\n",
              "      <td>3.000000</td>\n",
              "      <td>1.000000</td>\n",
              "      <td>1.000000</td>\n",
              "      <td>0.498333</td>\n",
              "      <td>0.486733</td>\n",
              "      <td>0.626667</td>\n",
              "      <td>0.180975</td>\n",
              "      <td>713.000000</td>\n",
              "      <td>3662.000000</td>\n",
              "      <td>4548.000000</td>\n",
              "    </tr>\n",
              "    <tr>\n",
              "      <th>75%</th>\n",
              "      <td>548.500000</td>\n",
              "      <td>3.000000</td>\n",
              "      <td>1.000000</td>\n",
              "      <td>10.000000</td>\n",
              "      <td>0.000000</td>\n",
              "      <td>5.000000</td>\n",
              "      <td>1.000000</td>\n",
              "      <td>2.000000</td>\n",
              "      <td>0.655417</td>\n",
              "      <td>0.608602</td>\n",
              "      <td>0.730209</td>\n",
              "      <td>0.233214</td>\n",
              "      <td>1096.000000</td>\n",
              "      <td>4776.500000</td>\n",
              "      <td>5956.000000</td>\n",
              "    </tr>\n",
              "    <tr>\n",
              "      <th>max</th>\n",
              "      <td>731.000000</td>\n",
              "      <td>4.000000</td>\n",
              "      <td>1.000000</td>\n",
              "      <td>12.000000</td>\n",
              "      <td>1.000000</td>\n",
              "      <td>6.000000</td>\n",
              "      <td>1.000000</td>\n",
              "      <td>3.000000</td>\n",
              "      <td>0.861667</td>\n",
              "      <td>0.840896</td>\n",
              "      <td>0.972500</td>\n",
              "      <td>0.507463</td>\n",
              "      <td>3410.000000</td>\n",
              "      <td>6946.000000</td>\n",
              "      <td>8714.000000</td>\n",
              "    </tr>\n",
              "  </tbody>\n",
              "</table>\n",
              "</div>"
            ],
            "text/plain": [
              "          instant      season          yr        mnth     holiday     weekday  \\\n",
              "count  731.000000  731.000000  731.000000  731.000000  731.000000  731.000000   \n",
              "mean   366.000000    2.496580    0.500684    6.519836    0.028728    2.997264   \n",
              "std    211.165812    1.110807    0.500342    3.451913    0.167155    2.004787   \n",
              "min      1.000000    1.000000    0.000000    1.000000    0.000000    0.000000   \n",
              "25%    183.500000    2.000000    0.000000    4.000000    0.000000    1.000000   \n",
              "50%    366.000000    3.000000    1.000000    7.000000    0.000000    3.000000   \n",
              "75%    548.500000    3.000000    1.000000   10.000000    0.000000    5.000000   \n",
              "max    731.000000    4.000000    1.000000   12.000000    1.000000    6.000000   \n",
              "\n",
              "       workingday  weathersit        temp       atemp         hum   windspeed  \\\n",
              "count  731.000000  731.000000  731.000000  731.000000  731.000000  731.000000   \n",
              "mean     0.683995    1.395349    0.495385    0.474354    0.627894    0.190486   \n",
              "std      0.465233    0.544894    0.183051    0.162961    0.142429    0.077498   \n",
              "min      0.000000    1.000000    0.059130    0.079070    0.000000    0.022392   \n",
              "25%      0.000000    1.000000    0.337083    0.337842    0.520000    0.134950   \n",
              "50%      1.000000    1.000000    0.498333    0.486733    0.626667    0.180975   \n",
              "75%      1.000000    2.000000    0.655417    0.608602    0.730209    0.233214   \n",
              "max      1.000000    3.000000    0.861667    0.840896    0.972500    0.507463   \n",
              "\n",
              "            casual   registered          cnt  \n",
              "count   731.000000   731.000000   731.000000  \n",
              "mean    848.176471  3656.172367  4504.348837  \n",
              "std     686.622488  1560.256377  1937.211452  \n",
              "min       2.000000    20.000000    22.000000  \n",
              "25%     315.500000  2497.000000  3152.000000  \n",
              "50%     713.000000  3662.000000  4548.000000  \n",
              "75%    1096.000000  4776.500000  5956.000000  \n",
              "max    3410.000000  6946.000000  8714.000000  "
            ]
          },
          "execution_count": 105,
          "metadata": {},
          "output_type": "execute_result"
        }
      ],
      "source": [
        "day_df.describe()"
      ]
    },
    {
      "cell_type": "markdown",
      "metadata": {},
      "source": [
        "Dapat kita lihat diatas, tidak ada keanehan pada nilai statistiknya."
      ]
    },
    {
      "cell_type": "markdown",
      "metadata": {
        "id": "k4Vr7Yaz2Tb1"
      },
      "source": [
        "**Asses hr_df**\n",
        "\n",
        "1. Mengecek tipe data hr_df"
      ]
    },
    {
      "cell_type": "code",
      "execution_count": 106,
      "metadata": {
        "colab": {
          "base_uri": "https://localhost:8080/"
        },
        "id": "_lPLiZlK2Agf",
        "outputId": "e24ef2ec-1324-4a29-810d-636d1e8767c6"
      },
      "outputs": [
        {
          "name": "stdout",
          "output_type": "stream",
          "text": [
            "<class 'pandas.core.frame.DataFrame'>\n",
            "RangeIndex: 17379 entries, 0 to 17378\n",
            "Data columns (total 17 columns):\n",
            " #   Column      Non-Null Count  Dtype  \n",
            "---  ------      --------------  -----  \n",
            " 0   instant     17379 non-null  int64  \n",
            " 1   dteday      17379 non-null  object \n",
            " 2   season      17379 non-null  int64  \n",
            " 3   yr          17379 non-null  int64  \n",
            " 4   mnth        17379 non-null  int64  \n",
            " 5   hr          17379 non-null  int64  \n",
            " 6   holiday     17379 non-null  int64  \n",
            " 7   weekday     17379 non-null  int64  \n",
            " 8   workingday  17379 non-null  int64  \n",
            " 9   weathersit  17379 non-null  int64  \n",
            " 10  temp        17379 non-null  float64\n",
            " 11  atemp       17379 non-null  float64\n",
            " 12  hum         17379 non-null  float64\n",
            " 13  windspeed   17379 non-null  float64\n",
            " 14  casual      17379 non-null  int64  \n",
            " 15  registered  17379 non-null  int64  \n",
            " 16  cnt         17379 non-null  int64  \n",
            "dtypes: float64(4), int64(12), object(1)\n",
            "memory usage: 2.3+ MB\n"
          ]
        }
      ],
      "source": [
        "hr_df.info()"
      ]
    },
    {
      "cell_type": "markdown",
      "metadata": {},
      "source": [
        "Dapat kita lihat diatas, terdapat 1 tipe data berdasarkan kolomnya yang tidak sesuai. Data yang perlu diperbaiki adalah: dteday -> datetime"
      ]
    },
    {
      "cell_type": "markdown",
      "metadata": {
        "id": "HEJ_ZG2a25lC"
      },
      "source": [
        "2. Mengecek apakah ada missing values"
      ]
    },
    {
      "cell_type": "code",
      "execution_count": 107,
      "metadata": {
        "colab": {
          "base_uri": "https://localhost:8080/",
          "height": 617
        },
        "id": "j3ZVA4UY2Ad5",
        "outputId": "26b1134c-3876-408d-c88b-92bc4c6098c6"
      },
      "outputs": [
        {
          "data": {
            "text/plain": [
              "instant       0\n",
              "dteday        0\n",
              "season        0\n",
              "yr            0\n",
              "mnth          0\n",
              "hr            0\n",
              "holiday       0\n",
              "weekday       0\n",
              "workingday    0\n",
              "weathersit    0\n",
              "temp          0\n",
              "atemp         0\n",
              "hum           0\n",
              "windspeed     0\n",
              "casual        0\n",
              "registered    0\n",
              "cnt           0\n",
              "dtype: int64"
            ]
          },
          "execution_count": 107,
          "metadata": {},
          "output_type": "execute_result"
        }
      ],
      "source": [
        "hr_df.isna().sum()"
      ]
    },
    {
      "cell_type": "markdown",
      "metadata": {},
      "source": [
        "Dapat kita simpulkan bahwa tabel hr_df tidak ada missing values, berarti aman."
      ]
    },
    {
      "cell_type": "markdown",
      "metadata": {
        "id": "ZakYI3mE284r"
      },
      "source": [
        "3. Mengecek apakah ada duplicate data"
      ]
    },
    {
      "cell_type": "code",
      "execution_count": 108,
      "metadata": {
        "colab": {
          "base_uri": "https://localhost:8080/"
        },
        "id": "pIPRtbOE28tM",
        "outputId": "4670e218-c558-45fc-80ab-9dde2f204948"
      },
      "outputs": [
        {
          "name": "stdout",
          "output_type": "stream",
          "text": [
            "Jumlah duplikasi data:  0\n"
          ]
        }
      ],
      "source": [
        "print(\"Jumlah duplikasi data: \", hr_df.duplicated().sum())"
      ]
    },
    {
      "cell_type": "markdown",
      "metadata": {},
      "source": [
        "Pada tabel day_df terdapat 0 data yang double, artinya semua data bersifat unik."
      ]
    },
    {
      "cell_type": "markdown",
      "metadata": {
        "id": "rA-yyORA3EkV"
      },
      "source": [
        "4. Mengecek apakah terdapat keanehan pada nilai statistiknya"
      ]
    },
    {
      "cell_type": "code",
      "execution_count": 109,
      "metadata": {
        "colab": {
          "base_uri": "https://localhost:8080/",
          "height": 320
        },
        "id": "LgeWlRT228ql",
        "outputId": "b8696692-d40c-45c4-87fb-4431f8f1cd78"
      },
      "outputs": [
        {
          "data": {
            "text/html": [
              "<div>\n",
              "<style scoped>\n",
              "    .dataframe tbody tr th:only-of-type {\n",
              "        vertical-align: middle;\n",
              "    }\n",
              "\n",
              "    .dataframe tbody tr th {\n",
              "        vertical-align: top;\n",
              "    }\n",
              "\n",
              "    .dataframe thead th {\n",
              "        text-align: right;\n",
              "    }\n",
              "</style>\n",
              "<table border=\"1\" class=\"dataframe\">\n",
              "  <thead>\n",
              "    <tr style=\"text-align: right;\">\n",
              "      <th></th>\n",
              "      <th>instant</th>\n",
              "      <th>season</th>\n",
              "      <th>yr</th>\n",
              "      <th>mnth</th>\n",
              "      <th>hr</th>\n",
              "      <th>holiday</th>\n",
              "      <th>weekday</th>\n",
              "      <th>workingday</th>\n",
              "      <th>weathersit</th>\n",
              "      <th>temp</th>\n",
              "      <th>atemp</th>\n",
              "      <th>hum</th>\n",
              "      <th>windspeed</th>\n",
              "      <th>casual</th>\n",
              "      <th>registered</th>\n",
              "      <th>cnt</th>\n",
              "    </tr>\n",
              "  </thead>\n",
              "  <tbody>\n",
              "    <tr>\n",
              "      <th>count</th>\n",
              "      <td>17379.0000</td>\n",
              "      <td>17379.000000</td>\n",
              "      <td>17379.000000</td>\n",
              "      <td>17379.000000</td>\n",
              "      <td>17379.000000</td>\n",
              "      <td>17379.000000</td>\n",
              "      <td>17379.000000</td>\n",
              "      <td>17379.000000</td>\n",
              "      <td>17379.000000</td>\n",
              "      <td>17379.000000</td>\n",
              "      <td>17379.000000</td>\n",
              "      <td>17379.000000</td>\n",
              "      <td>17379.000000</td>\n",
              "      <td>17379.000000</td>\n",
              "      <td>17379.000000</td>\n",
              "      <td>17379.000000</td>\n",
              "    </tr>\n",
              "    <tr>\n",
              "      <th>mean</th>\n",
              "      <td>8690.0000</td>\n",
              "      <td>2.501640</td>\n",
              "      <td>0.502561</td>\n",
              "      <td>6.537775</td>\n",
              "      <td>11.546752</td>\n",
              "      <td>0.028770</td>\n",
              "      <td>3.003683</td>\n",
              "      <td>0.682721</td>\n",
              "      <td>1.425283</td>\n",
              "      <td>0.496987</td>\n",
              "      <td>0.475775</td>\n",
              "      <td>0.627229</td>\n",
              "      <td>0.190098</td>\n",
              "      <td>35.676218</td>\n",
              "      <td>153.786869</td>\n",
              "      <td>189.463088</td>\n",
              "    </tr>\n",
              "    <tr>\n",
              "      <th>std</th>\n",
              "      <td>5017.0295</td>\n",
              "      <td>1.106918</td>\n",
              "      <td>0.500008</td>\n",
              "      <td>3.438776</td>\n",
              "      <td>6.914405</td>\n",
              "      <td>0.167165</td>\n",
              "      <td>2.005771</td>\n",
              "      <td>0.465431</td>\n",
              "      <td>0.639357</td>\n",
              "      <td>0.192556</td>\n",
              "      <td>0.171850</td>\n",
              "      <td>0.192930</td>\n",
              "      <td>0.122340</td>\n",
              "      <td>49.305030</td>\n",
              "      <td>151.357286</td>\n",
              "      <td>181.387599</td>\n",
              "    </tr>\n",
              "    <tr>\n",
              "      <th>min</th>\n",
              "      <td>1.0000</td>\n",
              "      <td>1.000000</td>\n",
              "      <td>0.000000</td>\n",
              "      <td>1.000000</td>\n",
              "      <td>0.000000</td>\n",
              "      <td>0.000000</td>\n",
              "      <td>0.000000</td>\n",
              "      <td>0.000000</td>\n",
              "      <td>1.000000</td>\n",
              "      <td>0.020000</td>\n",
              "      <td>0.000000</td>\n",
              "      <td>0.000000</td>\n",
              "      <td>0.000000</td>\n",
              "      <td>0.000000</td>\n",
              "      <td>0.000000</td>\n",
              "      <td>1.000000</td>\n",
              "    </tr>\n",
              "    <tr>\n",
              "      <th>25%</th>\n",
              "      <td>4345.5000</td>\n",
              "      <td>2.000000</td>\n",
              "      <td>0.000000</td>\n",
              "      <td>4.000000</td>\n",
              "      <td>6.000000</td>\n",
              "      <td>0.000000</td>\n",
              "      <td>1.000000</td>\n",
              "      <td>0.000000</td>\n",
              "      <td>1.000000</td>\n",
              "      <td>0.340000</td>\n",
              "      <td>0.333300</td>\n",
              "      <td>0.480000</td>\n",
              "      <td>0.104500</td>\n",
              "      <td>4.000000</td>\n",
              "      <td>34.000000</td>\n",
              "      <td>40.000000</td>\n",
              "    </tr>\n",
              "    <tr>\n",
              "      <th>50%</th>\n",
              "      <td>8690.0000</td>\n",
              "      <td>3.000000</td>\n",
              "      <td>1.000000</td>\n",
              "      <td>7.000000</td>\n",
              "      <td>12.000000</td>\n",
              "      <td>0.000000</td>\n",
              "      <td>3.000000</td>\n",
              "      <td>1.000000</td>\n",
              "      <td>1.000000</td>\n",
              "      <td>0.500000</td>\n",
              "      <td>0.484800</td>\n",
              "      <td>0.630000</td>\n",
              "      <td>0.194000</td>\n",
              "      <td>17.000000</td>\n",
              "      <td>115.000000</td>\n",
              "      <td>142.000000</td>\n",
              "    </tr>\n",
              "    <tr>\n",
              "      <th>75%</th>\n",
              "      <td>13034.5000</td>\n",
              "      <td>3.000000</td>\n",
              "      <td>1.000000</td>\n",
              "      <td>10.000000</td>\n",
              "      <td>18.000000</td>\n",
              "      <td>0.000000</td>\n",
              "      <td>5.000000</td>\n",
              "      <td>1.000000</td>\n",
              "      <td>2.000000</td>\n",
              "      <td>0.660000</td>\n",
              "      <td>0.621200</td>\n",
              "      <td>0.780000</td>\n",
              "      <td>0.253700</td>\n",
              "      <td>48.000000</td>\n",
              "      <td>220.000000</td>\n",
              "      <td>281.000000</td>\n",
              "    </tr>\n",
              "    <tr>\n",
              "      <th>max</th>\n",
              "      <td>17379.0000</td>\n",
              "      <td>4.000000</td>\n",
              "      <td>1.000000</td>\n",
              "      <td>12.000000</td>\n",
              "      <td>23.000000</td>\n",
              "      <td>1.000000</td>\n",
              "      <td>6.000000</td>\n",
              "      <td>1.000000</td>\n",
              "      <td>4.000000</td>\n",
              "      <td>1.000000</td>\n",
              "      <td>1.000000</td>\n",
              "      <td>1.000000</td>\n",
              "      <td>0.850700</td>\n",
              "      <td>367.000000</td>\n",
              "      <td>886.000000</td>\n",
              "      <td>977.000000</td>\n",
              "    </tr>\n",
              "  </tbody>\n",
              "</table>\n",
              "</div>"
            ],
            "text/plain": [
              "          instant        season            yr          mnth            hr  \\\n",
              "count  17379.0000  17379.000000  17379.000000  17379.000000  17379.000000   \n",
              "mean    8690.0000      2.501640      0.502561      6.537775     11.546752   \n",
              "std     5017.0295      1.106918      0.500008      3.438776      6.914405   \n",
              "min        1.0000      1.000000      0.000000      1.000000      0.000000   \n",
              "25%     4345.5000      2.000000      0.000000      4.000000      6.000000   \n",
              "50%     8690.0000      3.000000      1.000000      7.000000     12.000000   \n",
              "75%    13034.5000      3.000000      1.000000     10.000000     18.000000   \n",
              "max    17379.0000      4.000000      1.000000     12.000000     23.000000   \n",
              "\n",
              "            holiday       weekday    workingday    weathersit          temp  \\\n",
              "count  17379.000000  17379.000000  17379.000000  17379.000000  17379.000000   \n",
              "mean       0.028770      3.003683      0.682721      1.425283      0.496987   \n",
              "std        0.167165      2.005771      0.465431      0.639357      0.192556   \n",
              "min        0.000000      0.000000      0.000000      1.000000      0.020000   \n",
              "25%        0.000000      1.000000      0.000000      1.000000      0.340000   \n",
              "50%        0.000000      3.000000      1.000000      1.000000      0.500000   \n",
              "75%        0.000000      5.000000      1.000000      2.000000      0.660000   \n",
              "max        1.000000      6.000000      1.000000      4.000000      1.000000   \n",
              "\n",
              "              atemp           hum     windspeed        casual    registered  \\\n",
              "count  17379.000000  17379.000000  17379.000000  17379.000000  17379.000000   \n",
              "mean       0.475775      0.627229      0.190098     35.676218    153.786869   \n",
              "std        0.171850      0.192930      0.122340     49.305030    151.357286   \n",
              "min        0.000000      0.000000      0.000000      0.000000      0.000000   \n",
              "25%        0.333300      0.480000      0.104500      4.000000     34.000000   \n",
              "50%        0.484800      0.630000      0.194000     17.000000    115.000000   \n",
              "75%        0.621200      0.780000      0.253700     48.000000    220.000000   \n",
              "max        1.000000      1.000000      0.850700    367.000000    886.000000   \n",
              "\n",
              "                cnt  \n",
              "count  17379.000000  \n",
              "mean     189.463088  \n",
              "std      181.387599  \n",
              "min        1.000000  \n",
              "25%       40.000000  \n",
              "50%      142.000000  \n",
              "75%      281.000000  \n",
              "max      977.000000  "
            ]
          },
          "execution_count": 109,
          "metadata": {},
          "output_type": "execute_result"
        }
      ],
      "source": [
        "hr_df.describe()"
      ]
    },
    {
      "cell_type": "markdown",
      "metadata": {},
      "source": [
        "Dapat kita lihat diatas, tidak ada keanehan pada nilai statistiknya."
      ]
    },
    {
      "cell_type": "markdown",
      "metadata": {
        "id": "7dtxhAPrkhPL"
      },
      "source": [
        "**Insight**\n",
        "\n",
        "*day_df*\n",
        "- Terdapat 1 tipe data yang tidak sesuai, yaitu: `dteday -> datetime`.\n",
        "- Tidak ada missing values pada tabel day_df, sehingga data aman.\n",
        "- Tidak ada data duplikat, artinya semua data bersifat unik.\n",
        "- Nilai statistik pada tabel ini tidak menunjukkan keanehan.\n",
        "\n",
        "*hr_df*\n",
        "- Terdapat 1 tipe data yang tidak sesuai, yaitu: `dteday -> datetime`.\n",
        "- Tidak ada missing values pada tabel hr_df, sehingga data aman.\n",
        "- Tidak ada data duplikat, artinya semua data bersifat unik.\n",
        "- Nilai statistik pada tabel ini juga tidak menunjukkan keanehan.\n",
        "\n",
        "*Kesimpulan*\n",
        "- Assesing data pada day_df dan hr_df memiliki kemiripan dalam hal struktur dan kualitas data.\n"
      ]
    },
    {
      "cell_type": "markdown",
      "metadata": {
        "id": "EhN5R4hr8DC1"
      },
      "source": [
        "\n",
        "### Cleaning Data"
      ]
    },
    {
      "cell_type": "markdown",
      "metadata": {
        "id": "j5lqK1Sy3k2_"
      },
      "source": [
        "1. Menghapus tabel yang tidak diperlukan\n",
        "\n",
        "Sekarang kita akan menghapus terlebih dahulu tabel hr. dikarenakan tidak releban dengan pertanyaan bisnis yang sudah kita tetapkan dan juga tabel hr dan day itu bedanya hanya dikolom hrnya saja, selebeihnya sama."
      ]
    },
    {
      "cell_type": "code",
      "execution_count": 110,
      "metadata": {
        "id": "jVnYpprE9Evz"
      },
      "outputs": [],
      "source": [
        "del hr_df"
      ]
    },
    {
      "cell_type": "markdown",
      "metadata": {
        "id": "EDk3x6tY36hO"
      },
      "source": [
        "2. Menghapus beberapa kolom yang tidak akan digunakan\n",
        "\n",
        "berdasarkan pertanyaan bisnis kita, untuk kolom yang akan di drop, yakni:\n",
        "\n",
        "- instant : karena indesk catatan ini tidak memberikan informasi tambahan yang berguna.\n",
        "- windspeed : karena tidak relevan dengan pertanyaan tidak efek ada kecepatan angin terhadap jumlah penyewa"
      ]
    },
    {
      "cell_type": "code",
      "execution_count": 111,
      "metadata": {
        "colab": {
          "base_uri": "https://localhost:8080/",
          "height": 206
        },
        "id": "cgMmeUiP36QR",
        "outputId": "0dc98592-4a4a-45a3-a567-2ba098f05ceb"
      },
      "outputs": [
        {
          "data": {
            "text/html": [
              "<div>\n",
              "<style scoped>\n",
              "    .dataframe tbody tr th:only-of-type {\n",
              "        vertical-align: middle;\n",
              "    }\n",
              "\n",
              "    .dataframe tbody tr th {\n",
              "        vertical-align: top;\n",
              "    }\n",
              "\n",
              "    .dataframe thead th {\n",
              "        text-align: right;\n",
              "    }\n",
              "</style>\n",
              "<table border=\"1\" class=\"dataframe\">\n",
              "  <thead>\n",
              "    <tr style=\"text-align: right;\">\n",
              "      <th></th>\n",
              "      <th>dteday</th>\n",
              "      <th>season</th>\n",
              "      <th>yr</th>\n",
              "      <th>mnth</th>\n",
              "      <th>holiday</th>\n",
              "      <th>weekday</th>\n",
              "      <th>workingday</th>\n",
              "      <th>weathersit</th>\n",
              "      <th>temp</th>\n",
              "      <th>atemp</th>\n",
              "      <th>hum</th>\n",
              "      <th>casual</th>\n",
              "      <th>registered</th>\n",
              "      <th>cnt</th>\n",
              "    </tr>\n",
              "  </thead>\n",
              "  <tbody>\n",
              "    <tr>\n",
              "      <th>0</th>\n",
              "      <td>2011-01-01</td>\n",
              "      <td>1</td>\n",
              "      <td>0</td>\n",
              "      <td>1</td>\n",
              "      <td>0</td>\n",
              "      <td>6</td>\n",
              "      <td>0</td>\n",
              "      <td>2</td>\n",
              "      <td>0.344167</td>\n",
              "      <td>0.363625</td>\n",
              "      <td>0.805833</td>\n",
              "      <td>331</td>\n",
              "      <td>654</td>\n",
              "      <td>985</td>\n",
              "    </tr>\n",
              "    <tr>\n",
              "      <th>1</th>\n",
              "      <td>2011-01-02</td>\n",
              "      <td>1</td>\n",
              "      <td>0</td>\n",
              "      <td>1</td>\n",
              "      <td>0</td>\n",
              "      <td>0</td>\n",
              "      <td>0</td>\n",
              "      <td>2</td>\n",
              "      <td>0.363478</td>\n",
              "      <td>0.353739</td>\n",
              "      <td>0.696087</td>\n",
              "      <td>131</td>\n",
              "      <td>670</td>\n",
              "      <td>801</td>\n",
              "    </tr>\n",
              "    <tr>\n",
              "      <th>2</th>\n",
              "      <td>2011-01-03</td>\n",
              "      <td>1</td>\n",
              "      <td>0</td>\n",
              "      <td>1</td>\n",
              "      <td>0</td>\n",
              "      <td>1</td>\n",
              "      <td>1</td>\n",
              "      <td>1</td>\n",
              "      <td>0.196364</td>\n",
              "      <td>0.189405</td>\n",
              "      <td>0.437273</td>\n",
              "      <td>120</td>\n",
              "      <td>1229</td>\n",
              "      <td>1349</td>\n",
              "    </tr>\n",
              "    <tr>\n",
              "      <th>3</th>\n",
              "      <td>2011-01-04</td>\n",
              "      <td>1</td>\n",
              "      <td>0</td>\n",
              "      <td>1</td>\n",
              "      <td>0</td>\n",
              "      <td>2</td>\n",
              "      <td>1</td>\n",
              "      <td>1</td>\n",
              "      <td>0.200000</td>\n",
              "      <td>0.212122</td>\n",
              "      <td>0.590435</td>\n",
              "      <td>108</td>\n",
              "      <td>1454</td>\n",
              "      <td>1562</td>\n",
              "    </tr>\n",
              "    <tr>\n",
              "      <th>4</th>\n",
              "      <td>2011-01-05</td>\n",
              "      <td>1</td>\n",
              "      <td>0</td>\n",
              "      <td>1</td>\n",
              "      <td>0</td>\n",
              "      <td>3</td>\n",
              "      <td>1</td>\n",
              "      <td>1</td>\n",
              "      <td>0.226957</td>\n",
              "      <td>0.229270</td>\n",
              "      <td>0.436957</td>\n",
              "      <td>82</td>\n",
              "      <td>1518</td>\n",
              "      <td>1600</td>\n",
              "    </tr>\n",
              "  </tbody>\n",
              "</table>\n",
              "</div>"
            ],
            "text/plain": [
              "       dteday  season  yr  mnth  holiday  weekday  workingday  weathersit  \\\n",
              "0  2011-01-01       1   0     1        0        6           0           2   \n",
              "1  2011-01-02       1   0     1        0        0           0           2   \n",
              "2  2011-01-03       1   0     1        0        1           1           1   \n",
              "3  2011-01-04       1   0     1        0        2           1           1   \n",
              "4  2011-01-05       1   0     1        0        3           1           1   \n",
              "\n",
              "       temp     atemp       hum  casual  registered   cnt  \n",
              "0  0.344167  0.363625  0.805833     331         654   985  \n",
              "1  0.363478  0.353739  0.696087     131         670   801  \n",
              "2  0.196364  0.189405  0.437273     120        1229  1349  \n",
              "3  0.200000  0.212122  0.590435     108        1454  1562  \n",
              "4  0.226957  0.229270  0.436957      82        1518  1600  "
            ]
          },
          "execution_count": 111,
          "metadata": {},
          "output_type": "execute_result"
        }
      ],
      "source": [
        "drop_col = ['instant', 'windspeed']\n",
        "\n",
        "for i in day_df.columns:\n",
        "  if i in drop_col:\n",
        "    day_df.drop(labels=i, axis=1, inplace=True)\n",
        "\n",
        "day_df.head()"
      ]
    },
    {
      "cell_type": "markdown",
      "metadata": {
        "id": "d7RlB9Iq4ToG"
      },
      "source": [
        "3. Mengubah beberapa detail tentang kolom\n",
        "\n",
        "Karena nama dari kolom diatas kurang enak untuk dibaca, saya lebih suka dengan tipe data yang bentuknya kategorical, jadi saya akan merubah angkanya, dan ada tipe data yang tidak sesuai juga. saya akan merubah itu."
      ]
    },
    {
      "cell_type": "code",
      "execution_count": 112,
      "metadata": {
        "colab": {
          "base_uri": "https://localhost:8080/",
          "height": 206
        },
        "id": "3FbtEDnr36No",
        "outputId": "543cb58a-27f0-4ecf-a2c2-e847d83ecca4"
      },
      "outputs": [
        {
          "data": {
            "text/html": [
              "<div>\n",
              "<style scoped>\n",
              "    .dataframe tbody tr th:only-of-type {\n",
              "        vertical-align: middle;\n",
              "    }\n",
              "\n",
              "    .dataframe tbody tr th {\n",
              "        vertical-align: top;\n",
              "    }\n",
              "\n",
              "    .dataframe thead th {\n",
              "        text-align: right;\n",
              "    }\n",
              "</style>\n",
              "<table border=\"1\" class=\"dataframe\">\n",
              "  <thead>\n",
              "    <tr style=\"text-align: right;\">\n",
              "      <th></th>\n",
              "      <th>dateday</th>\n",
              "      <th>season</th>\n",
              "      <th>year</th>\n",
              "      <th>month</th>\n",
              "      <th>holiday</th>\n",
              "      <th>weekday</th>\n",
              "      <th>workingday</th>\n",
              "      <th>weather_cond</th>\n",
              "      <th>temp</th>\n",
              "      <th>atemp</th>\n",
              "      <th>hum</th>\n",
              "      <th>casual</th>\n",
              "      <th>registered</th>\n",
              "      <th>count</th>\n",
              "    </tr>\n",
              "  </thead>\n",
              "  <tbody>\n",
              "    <tr>\n",
              "      <th>0</th>\n",
              "      <td>2011-01-01</td>\n",
              "      <td>1</td>\n",
              "      <td>0</td>\n",
              "      <td>1</td>\n",
              "      <td>0</td>\n",
              "      <td>6</td>\n",
              "      <td>0</td>\n",
              "      <td>2</td>\n",
              "      <td>0.344167</td>\n",
              "      <td>0.363625</td>\n",
              "      <td>0.805833</td>\n",
              "      <td>331</td>\n",
              "      <td>654</td>\n",
              "      <td>985</td>\n",
              "    </tr>\n",
              "    <tr>\n",
              "      <th>1</th>\n",
              "      <td>2011-01-02</td>\n",
              "      <td>1</td>\n",
              "      <td>0</td>\n",
              "      <td>1</td>\n",
              "      <td>0</td>\n",
              "      <td>0</td>\n",
              "      <td>0</td>\n",
              "      <td>2</td>\n",
              "      <td>0.363478</td>\n",
              "      <td>0.353739</td>\n",
              "      <td>0.696087</td>\n",
              "      <td>131</td>\n",
              "      <td>670</td>\n",
              "      <td>801</td>\n",
              "    </tr>\n",
              "    <tr>\n",
              "      <th>2</th>\n",
              "      <td>2011-01-03</td>\n",
              "      <td>1</td>\n",
              "      <td>0</td>\n",
              "      <td>1</td>\n",
              "      <td>0</td>\n",
              "      <td>1</td>\n",
              "      <td>1</td>\n",
              "      <td>1</td>\n",
              "      <td>0.196364</td>\n",
              "      <td>0.189405</td>\n",
              "      <td>0.437273</td>\n",
              "      <td>120</td>\n",
              "      <td>1229</td>\n",
              "      <td>1349</td>\n",
              "    </tr>\n",
              "    <tr>\n",
              "      <th>3</th>\n",
              "      <td>2011-01-04</td>\n",
              "      <td>1</td>\n",
              "      <td>0</td>\n",
              "      <td>1</td>\n",
              "      <td>0</td>\n",
              "      <td>2</td>\n",
              "      <td>1</td>\n",
              "      <td>1</td>\n",
              "      <td>0.200000</td>\n",
              "      <td>0.212122</td>\n",
              "      <td>0.590435</td>\n",
              "      <td>108</td>\n",
              "      <td>1454</td>\n",
              "      <td>1562</td>\n",
              "    </tr>\n",
              "    <tr>\n",
              "      <th>4</th>\n",
              "      <td>2011-01-05</td>\n",
              "      <td>1</td>\n",
              "      <td>0</td>\n",
              "      <td>1</td>\n",
              "      <td>0</td>\n",
              "      <td>3</td>\n",
              "      <td>1</td>\n",
              "      <td>1</td>\n",
              "      <td>0.226957</td>\n",
              "      <td>0.229270</td>\n",
              "      <td>0.436957</td>\n",
              "      <td>82</td>\n",
              "      <td>1518</td>\n",
              "      <td>1600</td>\n",
              "    </tr>\n",
              "  </tbody>\n",
              "</table>\n",
              "</div>"
            ],
            "text/plain": [
              "      dateday  season  year  month  holiday  weekday  workingday  \\\n",
              "0  2011-01-01       1     0      1        0        6           0   \n",
              "1  2011-01-02       1     0      1        0        0           0   \n",
              "2  2011-01-03       1     0      1        0        1           1   \n",
              "3  2011-01-04       1     0      1        0        2           1   \n",
              "4  2011-01-05       1     0      1        0        3           1   \n",
              "\n",
              "   weather_cond      temp     atemp       hum  casual  registered  count  \n",
              "0             2  0.344167  0.363625  0.805833     331         654    985  \n",
              "1             2  0.363478  0.353739  0.696087     131         670    801  \n",
              "2             1  0.196364  0.189405  0.437273     120        1229   1349  \n",
              "3             1  0.200000  0.212122  0.590435     108        1454   1562  \n",
              "4             1  0.226957  0.229270  0.436957      82        1518   1600  "
            ]
          },
          "execution_count": 112,
          "metadata": {},
          "output_type": "execute_result"
        }
      ],
      "source": [
        "# Mengubah nama judul kolom\n",
        "day_df.rename(columns={\n",
        "    'dteday': 'dateday',\n",
        "    'yr': 'year',\n",
        "    'mnth': 'month',\n",
        "    'weathersit': 'weather_cond',\n",
        "    'cnt': 'count'\n",
        "}, inplace=True)\n",
        "\n",
        "day_df.head()"
      ]
    },
    {
      "cell_type": "code",
      "execution_count": 113,
      "metadata": {
        "id": "T0eJPdH74oFV"
      },
      "outputs": [],
      "source": [
        "# Mengubah angka menjadi keterangan\n",
        "day_df['month'] = day_df['month'].map({\n",
        "    1: 'Jan', 2: 'Feb', 3: 'Mar', 4: 'Apr', 5: 'May', 6: 'Jun',\n",
        "    7: 'Jul', 8: 'Aug', 9: 'Sep', 10: 'Oct', 11: 'Nov', 12: 'Dec'\n",
        "})\n",
        "day_df['season'] = day_df['season'].map({\n",
        "    1: 'Spring', 2: 'Summer', 3: 'Fall', 4: 'Winter'\n",
        "})\n",
        "day_df['weekday'] = day_df['weekday'].map({\n",
        "    0: 'Sun', 1: 'Mon', 2: 'Tue', 3: 'Wed', 4: 'Thu', 5: 'Fri', 6: 'Sat'\n",
        "})\n",
        "day_df['weather_cond'] = day_df['weather_cond'].map({\n",
        "    1: 'Clear/Partly Cloudy',\n",
        "    2: 'Misty/Cloudy',\n",
        "    3: 'Light Snow/Rain',\n",
        "    4: 'Severe Weather'\n",
        "})"
      ]
    },
    {
      "cell_type": "code",
      "execution_count": 114,
      "metadata": {
        "colab": {
          "base_uri": "https://localhost:8080/",
          "height": 206
        },
        "id": "k0lw0gXK45DL",
        "outputId": "c7420e8b-536f-4318-c430-7576ba1986f3"
      },
      "outputs": [
        {
          "data": {
            "text/html": [
              "<div>\n",
              "<style scoped>\n",
              "    .dataframe tbody tr th:only-of-type {\n",
              "        vertical-align: middle;\n",
              "    }\n",
              "\n",
              "    .dataframe tbody tr th {\n",
              "        vertical-align: top;\n",
              "    }\n",
              "\n",
              "    .dataframe thead th {\n",
              "        text-align: right;\n",
              "    }\n",
              "</style>\n",
              "<table border=\"1\" class=\"dataframe\">\n",
              "  <thead>\n",
              "    <tr style=\"text-align: right;\">\n",
              "      <th></th>\n",
              "      <th>dateday</th>\n",
              "      <th>season</th>\n",
              "      <th>year</th>\n",
              "      <th>month</th>\n",
              "      <th>holiday</th>\n",
              "      <th>weekday</th>\n",
              "      <th>workingday</th>\n",
              "      <th>weather_cond</th>\n",
              "      <th>temp</th>\n",
              "      <th>atemp</th>\n",
              "      <th>hum</th>\n",
              "      <th>casual</th>\n",
              "      <th>registered</th>\n",
              "      <th>count</th>\n",
              "    </tr>\n",
              "  </thead>\n",
              "  <tbody>\n",
              "    <tr>\n",
              "      <th>0</th>\n",
              "      <td>2011-01-01</td>\n",
              "      <td>Spring</td>\n",
              "      <td>0</td>\n",
              "      <td>Jan</td>\n",
              "      <td>0</td>\n",
              "      <td>Sat</td>\n",
              "      <td>0</td>\n",
              "      <td>Misty/Cloudy</td>\n",
              "      <td>0.344167</td>\n",
              "      <td>0.363625</td>\n",
              "      <td>0.805833</td>\n",
              "      <td>331</td>\n",
              "      <td>654</td>\n",
              "      <td>985</td>\n",
              "    </tr>\n",
              "    <tr>\n",
              "      <th>1</th>\n",
              "      <td>2011-01-02</td>\n",
              "      <td>Spring</td>\n",
              "      <td>0</td>\n",
              "      <td>Jan</td>\n",
              "      <td>0</td>\n",
              "      <td>Sun</td>\n",
              "      <td>0</td>\n",
              "      <td>Misty/Cloudy</td>\n",
              "      <td>0.363478</td>\n",
              "      <td>0.353739</td>\n",
              "      <td>0.696087</td>\n",
              "      <td>131</td>\n",
              "      <td>670</td>\n",
              "      <td>801</td>\n",
              "    </tr>\n",
              "    <tr>\n",
              "      <th>2</th>\n",
              "      <td>2011-01-03</td>\n",
              "      <td>Spring</td>\n",
              "      <td>0</td>\n",
              "      <td>Jan</td>\n",
              "      <td>0</td>\n",
              "      <td>Mon</td>\n",
              "      <td>1</td>\n",
              "      <td>Clear/Partly Cloudy</td>\n",
              "      <td>0.196364</td>\n",
              "      <td>0.189405</td>\n",
              "      <td>0.437273</td>\n",
              "      <td>120</td>\n",
              "      <td>1229</td>\n",
              "      <td>1349</td>\n",
              "    </tr>\n",
              "    <tr>\n",
              "      <th>3</th>\n",
              "      <td>2011-01-04</td>\n",
              "      <td>Spring</td>\n",
              "      <td>0</td>\n",
              "      <td>Jan</td>\n",
              "      <td>0</td>\n",
              "      <td>Tue</td>\n",
              "      <td>1</td>\n",
              "      <td>Clear/Partly Cloudy</td>\n",
              "      <td>0.200000</td>\n",
              "      <td>0.212122</td>\n",
              "      <td>0.590435</td>\n",
              "      <td>108</td>\n",
              "      <td>1454</td>\n",
              "      <td>1562</td>\n",
              "    </tr>\n",
              "    <tr>\n",
              "      <th>4</th>\n",
              "      <td>2011-01-05</td>\n",
              "      <td>Spring</td>\n",
              "      <td>0</td>\n",
              "      <td>Jan</td>\n",
              "      <td>0</td>\n",
              "      <td>Wed</td>\n",
              "      <td>1</td>\n",
              "      <td>Clear/Partly Cloudy</td>\n",
              "      <td>0.226957</td>\n",
              "      <td>0.229270</td>\n",
              "      <td>0.436957</td>\n",
              "      <td>82</td>\n",
              "      <td>1518</td>\n",
              "      <td>1600</td>\n",
              "    </tr>\n",
              "  </tbody>\n",
              "</table>\n",
              "</div>"
            ],
            "text/plain": [
              "     dateday  season year month holiday weekday workingday  \\\n",
              "0 2011-01-01  Spring    0   Jan       0     Sat          0   \n",
              "1 2011-01-02  Spring    0   Jan       0     Sun          0   \n",
              "2 2011-01-03  Spring    0   Jan       0     Mon          1   \n",
              "3 2011-01-04  Spring    0   Jan       0     Tue          1   \n",
              "4 2011-01-05  Spring    0   Jan       0     Wed          1   \n",
              "\n",
              "          weather_cond      temp     atemp       hum  casual  registered  \\\n",
              "0         Misty/Cloudy  0.344167  0.363625  0.805833     331         654   \n",
              "1         Misty/Cloudy  0.363478  0.353739  0.696087     131         670   \n",
              "2  Clear/Partly Cloudy  0.196364  0.189405  0.437273     120        1229   \n",
              "3  Clear/Partly Cloudy  0.200000  0.212122  0.590435     108        1454   \n",
              "4  Clear/Partly Cloudy  0.226957  0.229270  0.436957      82        1518   \n",
              "\n",
              "   count  \n",
              "0    985  \n",
              "1    801  \n",
              "2   1349  \n",
              "3   1562  \n",
              "4   1600  "
            ]
          },
          "execution_count": 114,
          "metadata": {},
          "output_type": "execute_result"
        }
      ],
      "source": [
        "# Mengubah tipe data ke datetime\n",
        "day_df['dateday'] = pd.to_datetime(day_df.dateday)\n",
        "\n",
        "# Mengubaha tipe data ke categorical\n",
        "day_df['season'] = day_df.season.astype('category')\n",
        "day_df['year'] = day_df.year.astype('category')\n",
        "day_df['month'] = day_df.month.astype('category')\n",
        "day_df['holiday'] = day_df.holiday.astype('category')\n",
        "day_df['weekday'] = day_df.weekday.astype('category')\n",
        "day_df['workingday'] = day_df.workingday.astype('category')\n",
        "day_df['weather_cond'] = day_df.weather_cond.astype('category')\n",
        "\n",
        "day_df.head()"
      ]
    },
    {
      "cell_type": "code",
      "execution_count": 115,
      "metadata": {
        "colab": {
          "base_uri": "https://localhost:8080/"
        },
        "id": "8j8z86JR49XO",
        "outputId": "c7d85deb-c18d-4fe2-cce8-b907884d5542"
      },
      "outputs": [
        {
          "name": "stdout",
          "output_type": "stream",
          "text": [
            "<class 'pandas.core.frame.DataFrame'>\n",
            "RangeIndex: 731 entries, 0 to 730\n",
            "Data columns (total 14 columns):\n",
            " #   Column        Non-Null Count  Dtype         \n",
            "---  ------        --------------  -----         \n",
            " 0   dateday       731 non-null    datetime64[ns]\n",
            " 1   season        731 non-null    category      \n",
            " 2   year          731 non-null    category      \n",
            " 3   month         731 non-null    category      \n",
            " 4   holiday       731 non-null    category      \n",
            " 5   weekday       731 non-null    category      \n",
            " 6   workingday    731 non-null    category      \n",
            " 7   weather_cond  731 non-null    category      \n",
            " 8   temp          731 non-null    float64       \n",
            " 9   atemp         731 non-null    float64       \n",
            " 10  hum           731 non-null    float64       \n",
            " 11  casual        731 non-null    int64         \n",
            " 12  registered    731 non-null    int64         \n",
            " 13  count         731 non-null    int64         \n",
            "dtypes: category(7), datetime64[ns](1), float64(3), int64(3)\n",
            "memory usage: 46.5 KB\n"
          ]
        }
      ],
      "source": [
        "day_df.info()"
      ]
    },
    {
      "cell_type": "markdown",
      "metadata": {},
      "source": [
        "disini kita sudah berhasil untuk mereplace value yang mulanya angka menjadi keterangan / string\n",
        "juga telah berhasil mengganti tipe datanya"
      ]
    },
    {
      "cell_type": "markdown",
      "metadata": {
        "id": "Q_5ejIqckiSP"
      },
      "source": [
        "**Insight**\n",
        "\n",
        "- Kami telah melakukan penilaian data pada `day_df` untuk dieksplorasi lebih lanjut agar dapat menjawab pertanyaan bisnis yang diajukan di awal.\n",
        "- Perubahan yang telah dilakukan pada data adalah sebagai berikut:\n",
        "  1. Mengubah nama kolom untuk meningkatkan keterbacaan dan pemahaman.\n",
        "  2. Mengonversi nilai numerik pada kolom 'month', 'season', 'weekday', dan 'weather_cond' menjadi representasi string/kata agar lebih mudah dipahami.\n",
        "  3. Mengubah tipe data pada kolom 'dteday' menjadi datetime untuk memudahkan analisis berbasis waktu.\n",
        "  4. Mengonversi beberapa kolom menjadi tipe `categorical` untuk optimasi analisis data dan visualisasi.\n"
      ]
    },
    {
      "cell_type": "markdown",
      "metadata": {
        "id": "gp-Y6wU38DC1"
      },
      "source": [
        "## Exploratory Data Analysis (EDA)"
      ]
    },
    {
      "cell_type": "markdown",
      "metadata": {
        "id": "MW7WF2kr8DC1"
      },
      "source": [
        "### Explore day_df"
      ]
    },
    {
      "cell_type": "markdown",
      "metadata": {
        "id": "AiFYrL8S6AZI"
      },
      "source": [
        "1. Mengelompokkan penyewa sepeda baik casual dan registered berdasarkan bulan"
      ]
    },
    {
      "cell_type": "code",
      "execution_count": 116,
      "metadata": {
        "colab": {
          "base_uri": "https://localhost:8080/",
          "height": 543
        },
        "id": "e9CQCZjk8DC2",
        "outputId": "e6f3e788-9498-4e32-c222-f636563879a6"
      },
      "outputs": [
        {
          "data": {
            "text/html": [
              "<div>\n",
              "<style scoped>\n",
              "    .dataframe tbody tr th:only-of-type {\n",
              "        vertical-align: middle;\n",
              "    }\n",
              "\n",
              "    .dataframe tbody tr th {\n",
              "        vertical-align: top;\n",
              "    }\n",
              "\n",
              "    .dataframe thead tr th {\n",
              "        text-align: left;\n",
              "    }\n",
              "\n",
              "    .dataframe thead tr:last-of-type th {\n",
              "        text-align: right;\n",
              "    }\n",
              "</style>\n",
              "<table border=\"1\" class=\"dataframe\">\n",
              "  <thead>\n",
              "    <tr>\n",
              "      <th></th>\n",
              "      <th colspan=\"4\" halign=\"left\">count</th>\n",
              "    </tr>\n",
              "    <tr>\n",
              "      <th></th>\n",
              "      <th>max</th>\n",
              "      <th>min</th>\n",
              "      <th>mean</th>\n",
              "      <th>sum</th>\n",
              "    </tr>\n",
              "    <tr>\n",
              "      <th>month</th>\n",
              "      <th></th>\n",
              "      <th></th>\n",
              "      <th></th>\n",
              "      <th></th>\n",
              "    </tr>\n",
              "  </thead>\n",
              "  <tbody>\n",
              "    <tr>\n",
              "      <th>Apr</th>\n",
              "      <td>7460</td>\n",
              "      <td>795</td>\n",
              "      <td>4484.900000</td>\n",
              "      <td>269094</td>\n",
              "    </tr>\n",
              "    <tr>\n",
              "      <th>Aug</th>\n",
              "      <td>7865</td>\n",
              "      <td>1115</td>\n",
              "      <td>5664.419355</td>\n",
              "      <td>351194</td>\n",
              "    </tr>\n",
              "    <tr>\n",
              "      <th>Dec</th>\n",
              "      <td>6606</td>\n",
              "      <td>441</td>\n",
              "      <td>3403.806452</td>\n",
              "      <td>211036</td>\n",
              "    </tr>\n",
              "    <tr>\n",
              "      <th>Feb</th>\n",
              "      <td>5062</td>\n",
              "      <td>1005</td>\n",
              "      <td>2655.298246</td>\n",
              "      <td>151352</td>\n",
              "    </tr>\n",
              "    <tr>\n",
              "      <th>Jan</th>\n",
              "      <td>4521</td>\n",
              "      <td>431</td>\n",
              "      <td>2176.338710</td>\n",
              "      <td>134933</td>\n",
              "    </tr>\n",
              "    <tr>\n",
              "      <th>Jul</th>\n",
              "      <td>8173</td>\n",
              "      <td>3285</td>\n",
              "      <td>5563.677419</td>\n",
              "      <td>344948</td>\n",
              "    </tr>\n",
              "    <tr>\n",
              "      <th>Jun</th>\n",
              "      <td>8120</td>\n",
              "      <td>3767</td>\n",
              "      <td>5772.366667</td>\n",
              "      <td>346342</td>\n",
              "    </tr>\n",
              "    <tr>\n",
              "      <th>Mar</th>\n",
              "      <td>8362</td>\n",
              "      <td>605</td>\n",
              "      <td>3692.258065</td>\n",
              "      <td>228920</td>\n",
              "    </tr>\n",
              "    <tr>\n",
              "      <th>May</th>\n",
              "      <td>8294</td>\n",
              "      <td>2633</td>\n",
              "      <td>5349.774194</td>\n",
              "      <td>331686</td>\n",
              "    </tr>\n",
              "    <tr>\n",
              "      <th>Nov</th>\n",
              "      <td>6852</td>\n",
              "      <td>1495</td>\n",
              "      <td>4247.183333</td>\n",
              "      <td>254831</td>\n",
              "    </tr>\n",
              "    <tr>\n",
              "      <th>Oct</th>\n",
              "      <td>8156</td>\n",
              "      <td>22</td>\n",
              "      <td>5199.225806</td>\n",
              "      <td>322352</td>\n",
              "    </tr>\n",
              "    <tr>\n",
              "      <th>Sep</th>\n",
              "      <td>8714</td>\n",
              "      <td>1842</td>\n",
              "      <td>5766.516667</td>\n",
              "      <td>345991</td>\n",
              "    </tr>\n",
              "  </tbody>\n",
              "</table>\n",
              "</div>"
            ],
            "text/plain": [
              "      count                           \n",
              "        max   min         mean     sum\n",
              "month                                 \n",
              "Apr    7460   795  4484.900000  269094\n",
              "Aug    7865  1115  5664.419355  351194\n",
              "Dec    6606   441  3403.806452  211036\n",
              "Feb    5062  1005  2655.298246  151352\n",
              "Jan    4521   431  2176.338710  134933\n",
              "Jul    8173  3285  5563.677419  344948\n",
              "Jun    8120  3767  5772.366667  346342\n",
              "Mar    8362   605  3692.258065  228920\n",
              "May    8294  2633  5349.774194  331686\n",
              "Nov    6852  1495  4247.183333  254831\n",
              "Oct    8156    22  5199.225806  322352\n",
              "Sep    8714  1842  5766.516667  345991"
            ]
          },
          "execution_count": 116,
          "metadata": {},
          "output_type": "execute_result"
        }
      ],
      "source": [
        "day_df.groupby(by='month').agg({\n",
        "    'count': ['max', 'min', 'mean', 'sum']\n",
        "})"
      ]
    },
    {
      "cell_type": "markdown",
      "metadata": {},
      "source": [
        "Berdasarkan hasil diatas, dapat disimpulkan bahwa bulan yang memiliki rata-rata terbesar dan jumlah terbanyak adalah bulan Juni. Sedangkan rata-rata terkecil dan jumlah terkecil adalah bulan Januari."
      ]
    },
    {
      "cell_type": "markdown",
      "metadata": {
        "id": "3p1aKA9_6OCn"
      },
      "source": [
        "2. Mengelompokkan penyewa sepeda baik casual dan registered berdasakan cuaca"
      ]
    },
    {
      "cell_type": "code",
      "execution_count": 117,
      "metadata": {
        "colab": {
          "base_uri": "https://localhost:8080/",
          "height": 261
        },
        "id": "gh_V0u3I6NZS",
        "outputId": "347ae31b-8280-4808-a887-6551aab88117"
      },
      "outputs": [
        {
          "data": {
            "text/html": [
              "<div>\n",
              "<style scoped>\n",
              "    .dataframe tbody tr th:only-of-type {\n",
              "        vertical-align: middle;\n",
              "    }\n",
              "\n",
              "    .dataframe tbody tr th {\n",
              "        vertical-align: top;\n",
              "    }\n",
              "\n",
              "    .dataframe thead tr th {\n",
              "        text-align: left;\n",
              "    }\n",
              "\n",
              "    .dataframe thead tr:last-of-type th {\n",
              "        text-align: right;\n",
              "    }\n",
              "</style>\n",
              "<table border=\"1\" class=\"dataframe\">\n",
              "  <thead>\n",
              "    <tr>\n",
              "      <th></th>\n",
              "      <th colspan=\"4\" halign=\"left\">count</th>\n",
              "    </tr>\n",
              "    <tr>\n",
              "      <th></th>\n",
              "      <th>max</th>\n",
              "      <th>min</th>\n",
              "      <th>mean</th>\n",
              "      <th>sum</th>\n",
              "    </tr>\n",
              "    <tr>\n",
              "      <th>weather_cond</th>\n",
              "      <th></th>\n",
              "      <th></th>\n",
              "      <th></th>\n",
              "      <th></th>\n",
              "    </tr>\n",
              "  </thead>\n",
              "  <tbody>\n",
              "    <tr>\n",
              "      <th>Clear/Partly Cloudy</th>\n",
              "      <td>8714</td>\n",
              "      <td>431</td>\n",
              "      <td>4876.786177</td>\n",
              "      <td>2257952</td>\n",
              "    </tr>\n",
              "    <tr>\n",
              "      <th>Light Snow/Rain</th>\n",
              "      <td>4639</td>\n",
              "      <td>22</td>\n",
              "      <td>1803.285714</td>\n",
              "      <td>37869</td>\n",
              "    </tr>\n",
              "    <tr>\n",
              "      <th>Misty/Cloudy</th>\n",
              "      <td>8362</td>\n",
              "      <td>605</td>\n",
              "      <td>4035.862348</td>\n",
              "      <td>996858</td>\n",
              "    </tr>\n",
              "  </tbody>\n",
              "</table>\n",
              "</div>"
            ],
            "text/plain": [
              "                    count                           \n",
              "                      max  min         mean      sum\n",
              "weather_cond                                        \n",
              "Clear/Partly Cloudy  8714  431  4876.786177  2257952\n",
              "Light Snow/Rain      4639   22  1803.285714    37869\n",
              "Misty/Cloudy         8362  605  4035.862348   996858"
            ]
          },
          "execution_count": 117,
          "metadata": {},
          "output_type": "execute_result"
        }
      ],
      "source": [
        "day_df.groupby(by='weather_cond').agg({\n",
        "    'count': ['max', 'min', 'mean', 'sum']\n",
        "})"
      ]
    },
    {
      "cell_type": "markdown",
      "metadata": {},
      "source": [
        "Berdasarkan hasil diatas, dapat disimpulkan bahwa para penyewa sepeda cenderung menyewa pada saat cuaca ketika sedang cerah atau mendung. Sangat sedikit ketika salju turun dan tidak ada ketika cuaca sedang sangat buruk."
      ]
    },
    {
      "cell_type": "markdown",
      "metadata": {
        "id": "x-EzqhPG6Yg4"
      },
      "source": [
        "3. Mengelompokkan penyewa sepeda baik casual dan registered berdasakan holiday"
      ]
    },
    {
      "cell_type": "code",
      "execution_count": 118,
      "metadata": {
        "colab": {
          "base_uri": "https://localhost:8080/",
          "height": 229
        },
        "id": "FSj90SnR6NLd",
        "outputId": "d38d1b50-49fe-423e-922e-59bc1189bb98"
      },
      "outputs": [
        {
          "data": {
            "text/html": [
              "<div>\n",
              "<style scoped>\n",
              "    .dataframe tbody tr th:only-of-type {\n",
              "        vertical-align: middle;\n",
              "    }\n",
              "\n",
              "    .dataframe tbody tr th {\n",
              "        vertical-align: top;\n",
              "    }\n",
              "\n",
              "    .dataframe thead tr th {\n",
              "        text-align: left;\n",
              "    }\n",
              "\n",
              "    .dataframe thead tr:last-of-type th {\n",
              "        text-align: right;\n",
              "    }\n",
              "</style>\n",
              "<table border=\"1\" class=\"dataframe\">\n",
              "  <thead>\n",
              "    <tr>\n",
              "      <th></th>\n",
              "      <th colspan=\"4\" halign=\"left\">count</th>\n",
              "    </tr>\n",
              "    <tr>\n",
              "      <th></th>\n",
              "      <th>max</th>\n",
              "      <th>min</th>\n",
              "      <th>mean</th>\n",
              "      <th>sum</th>\n",
              "    </tr>\n",
              "    <tr>\n",
              "      <th>holiday</th>\n",
              "      <th></th>\n",
              "      <th></th>\n",
              "      <th></th>\n",
              "      <th></th>\n",
              "    </tr>\n",
              "  </thead>\n",
              "  <tbody>\n",
              "    <tr>\n",
              "      <th>0</th>\n",
              "      <td>8714</td>\n",
              "      <td>22</td>\n",
              "      <td>4527.104225</td>\n",
              "      <td>3214244</td>\n",
              "    </tr>\n",
              "    <tr>\n",
              "      <th>1</th>\n",
              "      <td>7403</td>\n",
              "      <td>1000</td>\n",
              "      <td>3735.000000</td>\n",
              "      <td>78435</td>\n",
              "    </tr>\n",
              "  </tbody>\n",
              "</table>\n",
              "</div>"
            ],
            "text/plain": [
              "        count                            \n",
              "          max   min         mean      sum\n",
              "holiday                                  \n",
              "0        8714    22  4527.104225  3214244\n",
              "1        7403  1000  3735.000000    78435"
            ]
          },
          "execution_count": 118,
          "metadata": {},
          "output_type": "execute_result"
        }
      ],
      "source": [
        "day_df.groupby(by='holiday').agg({\n",
        "    'count': ['max', 'min', 'mean', 'sum']\n",
        "})"
      ]
    },
    {
      "cell_type": "markdown",
      "metadata": {},
      "source": [
        "Berdasarkan hasil diatas, dapat disimpulkan bahwa para penyewa sepeda lebih suka menyewa sepeda saat bukan hari-hari libur, melainkan pada saat hari-hari biasa."
      ]
    },
    {
      "cell_type": "markdown",
      "metadata": {
        "id": "4Q1YxJYi6f8j"
      },
      "source": [
        "4. Membandingkan penyewa sepeda pada saat weekday dan weekend"
      ]
    },
    {
      "cell_type": "code",
      "execution_count": 119,
      "metadata": {
        "colab": {
          "base_uri": "https://localhost:8080/",
          "height": 386
        },
        "id": "86UKF4dd6NIy",
        "outputId": "f6168a07-a5ba-4e5a-be9c-fbb453cb1469"
      },
      "outputs": [
        {
          "data": {
            "text/html": [
              "<div>\n",
              "<style scoped>\n",
              "    .dataframe tbody tr th:only-of-type {\n",
              "        vertical-align: middle;\n",
              "    }\n",
              "\n",
              "    .dataframe tbody tr th {\n",
              "        vertical-align: top;\n",
              "    }\n",
              "\n",
              "    .dataframe thead tr th {\n",
              "        text-align: left;\n",
              "    }\n",
              "\n",
              "    .dataframe thead tr:last-of-type th {\n",
              "        text-align: right;\n",
              "    }\n",
              "</style>\n",
              "<table border=\"1\" class=\"dataframe\">\n",
              "  <thead>\n",
              "    <tr>\n",
              "      <th></th>\n",
              "      <th colspan=\"3\" halign=\"left\">count</th>\n",
              "    </tr>\n",
              "    <tr>\n",
              "      <th></th>\n",
              "      <th>max</th>\n",
              "      <th>min</th>\n",
              "      <th>mean</th>\n",
              "    </tr>\n",
              "    <tr>\n",
              "      <th>weekday</th>\n",
              "      <th></th>\n",
              "      <th></th>\n",
              "      <th></th>\n",
              "    </tr>\n",
              "  </thead>\n",
              "  <tbody>\n",
              "    <tr>\n",
              "      <th>Fri</th>\n",
              "      <td>8362</td>\n",
              "      <td>1167</td>\n",
              "      <td>4690.288462</td>\n",
              "    </tr>\n",
              "    <tr>\n",
              "      <th>Mon</th>\n",
              "      <td>7525</td>\n",
              "      <td>22</td>\n",
              "      <td>4338.123810</td>\n",
              "    </tr>\n",
              "    <tr>\n",
              "      <th>Sat</th>\n",
              "      <td>8714</td>\n",
              "      <td>627</td>\n",
              "      <td>4550.542857</td>\n",
              "    </tr>\n",
              "    <tr>\n",
              "      <th>Sun</th>\n",
              "      <td>8227</td>\n",
              "      <td>605</td>\n",
              "      <td>4228.828571</td>\n",
              "    </tr>\n",
              "    <tr>\n",
              "      <th>Thu</th>\n",
              "      <td>7804</td>\n",
              "      <td>431</td>\n",
              "      <td>4667.259615</td>\n",
              "    </tr>\n",
              "    <tr>\n",
              "      <th>Tue</th>\n",
              "      <td>7767</td>\n",
              "      <td>683</td>\n",
              "      <td>4510.663462</td>\n",
              "    </tr>\n",
              "    <tr>\n",
              "      <th>Wed</th>\n",
              "      <td>8173</td>\n",
              "      <td>441</td>\n",
              "      <td>4548.538462</td>\n",
              "    </tr>\n",
              "  </tbody>\n",
              "</table>\n",
              "</div>"
            ],
            "text/plain": [
              "        count                   \n",
              "          max   min         mean\n",
              "weekday                         \n",
              "Fri      8362  1167  4690.288462\n",
              "Mon      7525    22  4338.123810\n",
              "Sat      8714   627  4550.542857\n",
              "Sun      8227   605  4228.828571\n",
              "Thu      7804   431  4667.259615\n",
              "Tue      7767   683  4510.663462\n",
              "Wed      8173   441  4548.538462"
            ]
          },
          "execution_count": 119,
          "metadata": {},
          "output_type": "execute_result"
        }
      ],
      "source": [
        "day_df.groupby(by='weekday').agg({\n",
        "    'count':['max','min','mean']\n",
        "})"
      ]
    },
    {
      "cell_type": "markdown",
      "metadata": {},
      "source": [
        "Berdasarkan hasil diatas, Urutan rata-rata jumlah penyewa dari terbesar ke yang terkecil yakni: Jumat (Fri), Kamis (Thu), Sabtu (Sat), Rabu (Wed), Selasa (Tue), Senin (Mon), dan Minggu (Sun)."
      ]
    },
    {
      "cell_type": "markdown",
      "metadata": {
        "id": "B2miIaYX6qqw"
      },
      "source": [
        "5. Mengelompokkan penyewa sepeda baik casual dan registered berdasakan workingday"
      ]
    },
    {
      "cell_type": "code",
      "execution_count": 120,
      "metadata": {
        "colab": {
          "base_uri": "https://localhost:8080/",
          "height": 229
        },
        "id": "vZxd5-SX6qTq",
        "outputId": "79967670-f59b-4bac-edcc-5d25e28ecfdd"
      },
      "outputs": [
        {
          "data": {
            "text/html": [
              "<div>\n",
              "<style scoped>\n",
              "    .dataframe tbody tr th:only-of-type {\n",
              "        vertical-align: middle;\n",
              "    }\n",
              "\n",
              "    .dataframe tbody tr th {\n",
              "        vertical-align: top;\n",
              "    }\n",
              "\n",
              "    .dataframe thead tr th {\n",
              "        text-align: left;\n",
              "    }\n",
              "\n",
              "    .dataframe thead tr:last-of-type th {\n",
              "        text-align: right;\n",
              "    }\n",
              "</style>\n",
              "<table border=\"1\" class=\"dataframe\">\n",
              "  <thead>\n",
              "    <tr>\n",
              "      <th></th>\n",
              "      <th colspan=\"3\" halign=\"left\">count</th>\n",
              "    </tr>\n",
              "    <tr>\n",
              "      <th></th>\n",
              "      <th>max</th>\n",
              "      <th>min</th>\n",
              "      <th>mean</th>\n",
              "    </tr>\n",
              "    <tr>\n",
              "      <th>workingday</th>\n",
              "      <th></th>\n",
              "      <th></th>\n",
              "      <th></th>\n",
              "    </tr>\n",
              "  </thead>\n",
              "  <tbody>\n",
              "    <tr>\n",
              "      <th>0</th>\n",
              "      <td>8714</td>\n",
              "      <td>605</td>\n",
              "      <td>4330.168831</td>\n",
              "    </tr>\n",
              "    <tr>\n",
              "      <th>1</th>\n",
              "      <td>8362</td>\n",
              "      <td>22</td>\n",
              "      <td>4584.820000</td>\n",
              "    </tr>\n",
              "  </tbody>\n",
              "</table>\n",
              "</div>"
            ],
            "text/plain": [
              "           count                  \n",
              "             max  min         mean\n",
              "workingday                        \n",
              "0           8714  605  4330.168831\n",
              "1           8362   22  4584.820000"
            ]
          },
          "execution_count": 120,
          "metadata": {},
          "output_type": "execute_result"
        }
      ],
      "source": [
        "day_df.groupby(by='workingday').agg({\n",
        "    'count': ['max', 'min', 'mean']\n",
        "})"
      ]
    },
    {
      "cell_type": "markdown",
      "metadata": {},
      "source": [
        "Berdasarkan hasil diatas, jumlah penyewaan sepeda terbesar jatuh kepada workingday atau hari kerja dibandingkan dengan hari non-workingday. Namun dapat kita lihat juga, hasilnya lumayan berbeda walaupun tidak banyak."
      ]
    },
    {
      "cell_type": "markdown",
      "metadata": {
        "id": "giAm3e6M61AS"
      },
      "source": [
        "6. Mengelompokkan penyewa sepeda baik casual dan registered berdasakan season"
      ]
    },
    {
      "cell_type": "code",
      "execution_count": 121,
      "metadata": {
        "colab": {
          "base_uri": "https://localhost:8080/",
          "height": 292
        },
        "id": "S-VNmIyv6raX",
        "outputId": "2ea7b3d0-3e8a-4471-c32b-984f02362a13"
      },
      "outputs": [
        {
          "data": {
            "text/html": [
              "<div>\n",
              "<style scoped>\n",
              "    .dataframe tbody tr th:only-of-type {\n",
              "        vertical-align: middle;\n",
              "    }\n",
              "\n",
              "    .dataframe tbody tr th {\n",
              "        vertical-align: top;\n",
              "    }\n",
              "\n",
              "    .dataframe thead tr th {\n",
              "        text-align: left;\n",
              "    }\n",
              "\n",
              "    .dataframe thead tr:last-of-type th {\n",
              "        text-align: right;\n",
              "    }\n",
              "</style>\n",
              "<table border=\"1\" class=\"dataframe\">\n",
              "  <thead>\n",
              "    <tr>\n",
              "      <th></th>\n",
              "      <th>casual</th>\n",
              "      <th>registered</th>\n",
              "      <th colspan=\"3\" halign=\"left\">count</th>\n",
              "    </tr>\n",
              "    <tr>\n",
              "      <th></th>\n",
              "      <th>mean</th>\n",
              "      <th>mean</th>\n",
              "      <th>max</th>\n",
              "      <th>min</th>\n",
              "      <th>mean</th>\n",
              "    </tr>\n",
              "    <tr>\n",
              "      <th>season</th>\n",
              "      <th></th>\n",
              "      <th></th>\n",
              "      <th></th>\n",
              "      <th></th>\n",
              "      <th></th>\n",
              "    </tr>\n",
              "  </thead>\n",
              "  <tbody>\n",
              "    <tr>\n",
              "      <th>Fall</th>\n",
              "      <td>1202.611702</td>\n",
              "      <td>4441.691489</td>\n",
              "      <td>8714</td>\n",
              "      <td>1115</td>\n",
              "      <td>5644.303191</td>\n",
              "    </tr>\n",
              "    <tr>\n",
              "      <th>Spring</th>\n",
              "      <td>334.928177</td>\n",
              "      <td>2269.204420</td>\n",
              "      <td>7836</td>\n",
              "      <td>431</td>\n",
              "      <td>2604.132597</td>\n",
              "    </tr>\n",
              "    <tr>\n",
              "      <th>Summer</th>\n",
              "      <td>1106.097826</td>\n",
              "      <td>3886.233696</td>\n",
              "      <td>8362</td>\n",
              "      <td>795</td>\n",
              "      <td>4992.331522</td>\n",
              "    </tr>\n",
              "    <tr>\n",
              "      <th>Winter</th>\n",
              "      <td>729.112360</td>\n",
              "      <td>3999.050562</td>\n",
              "      <td>8555</td>\n",
              "      <td>22</td>\n",
              "      <td>4728.162921</td>\n",
              "    </tr>\n",
              "  </tbody>\n",
              "</table>\n",
              "</div>"
            ],
            "text/plain": [
              "             casual   registered count                   \n",
              "               mean         mean   max   min         mean\n",
              "season                                                   \n",
              "Fall    1202.611702  4441.691489  8714  1115  5644.303191\n",
              "Spring   334.928177  2269.204420  7836   431  2604.132597\n",
              "Summer  1106.097826  3886.233696  8362   795  4992.331522\n",
              "Winter   729.112360  3999.050562  8555    22  4728.162921"
            ]
          },
          "execution_count": 121,
          "metadata": {},
          "output_type": "execute_result"
        }
      ],
      "source": [
        "day_df.groupby(by='season').agg({\n",
        "    'casual': 'mean',\n",
        "    'registered': 'mean',\n",
        "    'count': ['max', 'min', 'mean']\n",
        "})"
      ]
    },
    {
      "cell_type": "markdown",
      "metadata": {},
      "source": [
        "Berdasarkan hasil analisis diatas, para penyewa sepeda baik Casual Dan Registered, suka sekali pada musim gugur (Fall), dapat dilihat dari rata-ratanya. Sedangkan yang paling sedikit adalah pada musim semi (Spring) dengan rata-rata yang paling kecil."
      ]
    },
    {
      "cell_type": "markdown",
      "metadata": {
        "id": "BnoTJO2t69fY"
      },
      "source": [
        "7. Kelompokkan temp, hum, dan humidity berdasarkan season"
      ]
    },
    {
      "cell_type": "code",
      "execution_count": 122,
      "metadata": {
        "colab": {
          "base_uri": "https://localhost:8080/",
          "height": 292
        },
        "id": "PI3JDF8W6rX1",
        "outputId": "ddca2189-ab4d-4ad5-b0de-40bdd4c57939"
      },
      "outputs": [
        {
          "data": {
            "text/html": [
              "<div>\n",
              "<style scoped>\n",
              "    .dataframe tbody tr th:only-of-type {\n",
              "        vertical-align: middle;\n",
              "    }\n",
              "\n",
              "    .dataframe tbody tr th {\n",
              "        vertical-align: top;\n",
              "    }\n",
              "\n",
              "    .dataframe thead tr th {\n",
              "        text-align: left;\n",
              "    }\n",
              "\n",
              "    .dataframe thead tr:last-of-type th {\n",
              "        text-align: right;\n",
              "    }\n",
              "</style>\n",
              "<table border=\"1\" class=\"dataframe\">\n",
              "  <thead>\n",
              "    <tr>\n",
              "      <th></th>\n",
              "      <th colspan=\"3\" halign=\"left\">temp</th>\n",
              "      <th colspan=\"3\" halign=\"left\">atemp</th>\n",
              "      <th colspan=\"3\" halign=\"left\">hum</th>\n",
              "    </tr>\n",
              "    <tr>\n",
              "      <th></th>\n",
              "      <th>max</th>\n",
              "      <th>min</th>\n",
              "      <th>mean</th>\n",
              "      <th>max</th>\n",
              "      <th>min</th>\n",
              "      <th>mean</th>\n",
              "      <th>max</th>\n",
              "      <th>min</th>\n",
              "      <th>mean</th>\n",
              "    </tr>\n",
              "    <tr>\n",
              "      <th>season</th>\n",
              "      <th></th>\n",
              "      <th></th>\n",
              "      <th></th>\n",
              "      <th></th>\n",
              "      <th></th>\n",
              "      <th></th>\n",
              "      <th></th>\n",
              "      <th></th>\n",
              "      <th></th>\n",
              "    </tr>\n",
              "  </thead>\n",
              "  <tbody>\n",
              "    <tr>\n",
              "      <th>Fall</th>\n",
              "      <td>0.861667</td>\n",
              "      <td>0.469167</td>\n",
              "      <td>0.706309</td>\n",
              "      <td>0.840896</td>\n",
              "      <td>0.242400</td>\n",
              "      <td>0.655898</td>\n",
              "      <td>0.939565</td>\n",
              "      <td>0.360000</td>\n",
              "      <td>0.633482</td>\n",
              "    </tr>\n",
              "    <tr>\n",
              "      <th>Spring</th>\n",
              "      <td>0.572500</td>\n",
              "      <td>0.059130</td>\n",
              "      <td>0.297748</td>\n",
              "      <td>0.548617</td>\n",
              "      <td>0.079070</td>\n",
              "      <td>0.296914</td>\n",
              "      <td>0.948261</td>\n",
              "      <td>0.000000</td>\n",
              "      <td>0.582903</td>\n",
              "    </tr>\n",
              "    <tr>\n",
              "      <th>Summer</th>\n",
              "      <td>0.808333</td>\n",
              "      <td>0.253043</td>\n",
              "      <td>0.544405</td>\n",
              "      <td>0.757579</td>\n",
              "      <td>0.250339</td>\n",
              "      <td>0.520307</td>\n",
              "      <td>0.922500</td>\n",
              "      <td>0.254167</td>\n",
              "      <td>0.626948</td>\n",
              "    </tr>\n",
              "    <tr>\n",
              "      <th>Winter</th>\n",
              "      <td>0.657500</td>\n",
              "      <td>0.220833</td>\n",
              "      <td>0.422906</td>\n",
              "      <td>0.607975</td>\n",
              "      <td>0.227913</td>\n",
              "      <td>0.415539</td>\n",
              "      <td>0.972500</td>\n",
              "      <td>0.333478</td>\n",
              "      <td>0.668719</td>\n",
              "    </tr>\n",
              "  </tbody>\n",
              "</table>\n",
              "</div>"
            ],
            "text/plain": [
              "            temp                         atemp                           hum  \\\n",
              "             max       min      mean       max       min      mean       max   \n",
              "season                                                                         \n",
              "Fall    0.861667  0.469167  0.706309  0.840896  0.242400  0.655898  0.939565   \n",
              "Spring  0.572500  0.059130  0.297748  0.548617  0.079070  0.296914  0.948261   \n",
              "Summer  0.808333  0.253043  0.544405  0.757579  0.250339  0.520307  0.922500   \n",
              "Winter  0.657500  0.220833  0.422906  0.607975  0.227913  0.415539  0.972500   \n",
              "\n",
              "                            \n",
              "             min      mean  \n",
              "season                      \n",
              "Fall    0.360000  0.633482  \n",
              "Spring  0.000000  0.582903  \n",
              "Summer  0.254167  0.626948  \n",
              "Winter  0.333478  0.668719  "
            ]
          },
          "execution_count": 122,
          "metadata": {},
          "output_type": "execute_result"
        }
      ],
      "source": [
        "day_df.groupby(by='season').agg({\n",
        "    'temp': ['max', 'min', 'mean'],\n",
        "    'atemp': ['max', 'min', 'mean'],\n",
        "    'hum': ['max', 'min', 'mean']\n",
        "})"
      ]
    },
    {
      "cell_type": "markdown",
      "metadata": {},
      "source": [
        "Berdasarkan hasil analisis diatas, dapat disimpulkan beberapa pernyataan sebagai berikut:\n",
        "\n",
        "- Rata-rata temperatur dan atemp tertinggi terjadi pada musim gugur (fall season) yang selanjutnya diikuti oleh summer, winter, dan spring.\n",
        "- Rata-rata humidity tertinggi terjadi pada musim terjadi pada musim dingin (winter season) yang selanjutnya diikuti oleh fall, summer, dan spring."
      ]
    },
    {
      "cell_type": "markdown",
      "metadata": {
        "id": "gC3jSrxd7RDP"
      },
      "source": [
        "8. Mengetahui hubungan antara penyewa casual, registered dan count"
      ]
    },
    {
      "cell_type": "code",
      "execution_count": 123,
      "metadata": {
        "colab": {
          "base_uri": "https://localhost:8080/",
          "height": 545
        },
        "id": "T0XmSe2C6rVr",
        "outputId": "5a66ee52-8eaf-4377-ae95-3f0539aba7eb"
      },
      "outputs": [
        {
          "data": {
            "image/png": "[encoded data removed]",
            "text/plain": [
              "<Figure size 1000x600 with 2 Axes>"
            ]
          },
          "metadata": {},
          "output_type": "display_data"
        }
      ],
      "source": [
        "fig, ax = plt.subplots(figsize=(10,6))\n",
        "correlation_matrix = day_df.corr(numeric_only=True)\n",
        "mask = np.triu(np.ones_like(correlation_matrix, dtype=bool))\n",
        "\n",
        "sns.heatmap(\n",
        "    correlation_matrix,\n",
        "    annot=True,\n",
        "    mask=mask,\n",
        "    cmap=\"coolwarm\",\n",
        "    center=0,\n",
        "    fmt=\".2f\")\n",
        "plt.title(\"Correlation Heatmap\")\n",
        "plt.show()"
      ]
    },
    {
      "cell_type": "markdown",
      "metadata": {},
      "source": [
        "Berdasarkan hasil analisis diatas, didapat pernyataan sebagai berikut:\n",
        "\n",
        "- atemp dan temp sangat berkorelasi (0.99).\n",
        "- hum memiliki korelasi lemah dengan temp dan atemp (0.13 dan 0.14).\n",
        "- casual cukup berkorelasi dengan temp dan atemp (0.54), dan sedikit negatif dengan hum (-0.08).\n",
        "- registered memiliki pola yang sama seperti casual, dan berkorelasi moderat dengan casual (0.40).\n",
        "- count berkorelasi kuat dengan temp, atemp, casual, dan registered (0.63, 0.63, 0.67, dan 0.95), dan sedikit negatif dengan hum (-0.10)."
      ]
    },
    {
      "cell_type": "markdown",
      "metadata": {
        "id": "th_Lzl2Fkj9O"
      },
      "source": [
        "**Insight**\n",
        "\n",
        "- Bulan dengan rata-rata jumlah penyewaan sepeda terbesar adalah `Juni`, sedangkan bulan dengan rata-rata dan jumlah penyewaan terkecil adalah `Januari`.\n",
        "  \n",
        "- Penyewaan sepeda paling sering terjadi saat cuaca `cerah` atau `mendung`, sangat sedikit saat `salju` turun, dan hampir tidak ada penyewaan saat cuaca sangat buruk.\n",
        "\n",
        "- Urutan rata-rata jumlah penyewaan berdasarkan hari, dari yang terbesar hingga terkecil, adalah sebagai berikut: \n",
        "  `Jumat (Fri)`, `Kamis (Thu)`, `Sabtu (Sat)`, `Rabu (Wed)`, `Selasa (Tue)`, `Senin (Mon)`, dan `Minggu (Sun)`.\n",
        "\n",
        "- Jumlah penyewaan sepeda terbesar terjadi pada `hari kerja (working day)` dibandingkan dengan `hari libur`. Meskipun perbedaannya tidak terlalu signifikan, penyewaan di hari kerja lebih dominan.\n",
        "\n",
        "- Para penyewa, baik `Casual` maupun `Registered`, lebih aktif pada `musim gugur (Fall)`, sementara musim dengan penyewaan paling sedikit adalah `musim semi (Spring)`.\n",
        "\n",
        "- Berdasarkan analisis pengelompokan suhu (`temp`), suhu yang dirasakan (`atemp`), dan kelembaban (`hum`) menurut musim, berikut kesimpulannya:\n",
        "  - Rata-rata `suhu` dan `atemp` tertinggi terjadi pada `musim gugur (Fall)`, diikuti oleh `musim panas (Summer)`, `musim dingin (Winter)`, dan `musim semi (Spring)`.\n",
        "  - Rata-rata `kelembaban (humidity)` tertinggi terjadi pada `musim dingin (Winter)`, diikuti oleh `musim gugur (Fall)`, `musim panas (Summer)`, dan terendah pada `musim semi (Spring)`.\n",
        "\n",
        "- Berdasarkan analisis `heatmap`, berikut beberapa temuan utama:\n",
        "  - `Atemp` dan `temp` memiliki korelasi yang sangat kuat (`0.99`).\n",
        "  - `Kelembaban (hum)` memiliki korelasi lemah dengan `temp` dan `atemp` (masing-masing `0.13` dan `0.14`).\n",
        "  - Penyewa `casual` memiliki korelasi sedang dengan `temp` dan `atemp` (`0.54`), serta sedikit negatif dengan `hum` (`-0.08`).\n",
        "  - Penyewa `registered` memiliki pola korelasi yang mirip dengan `casual`, dengan korelasi moderat di antara keduanya (`0.40`).\n",
        "  - Jumlah total penyewaan (`count`) berkorelasi kuat dengan `temp`, `atemp`, `casual`, dan `registered` (masing-masing `0.63`, `0.63`, `0.67`, dan `0.95`), serta sedikit negatif dengan `hum` (`-0.10`).\n"
      ]
    },
    {
      "cell_type": "markdown",
      "metadata": {
        "id": "zsyZjqak8DC2"
      },
      "source": [
        "## Visualization & Explanatory Analysis"
      ]
    },
    {
      "cell_type": "markdown",
      "metadata": {
        "id": "HZxOiQ6n8DC2"
      },
      "source": [
        "### Pertanyaan 1:"
      ]
    },
    {
      "cell_type": "markdown",
      "metadata": {
        "id": "8Tk96HdE72Lt"
      },
      "source": [
        "### Pertanyaan 1 : Apakah cuara berpengaruh terhadap jumlah pengguna sepeda?\n"
      ]
    },
    {
      "cell_type": "code",
      "execution_count": 124,
      "metadata": {
        "colab": {
          "base_uri": "https://localhost:8080/",
          "height": 564
        },
        "id": "1swJUdAD8DC2",
        "outputId": "1de0c65b-3236-49ad-a8bb-af6061f0c5b8"
      },
      "outputs": [
        {
          "data": {
            "image/png": "[encoded data removed]",
            "text/plain": [
              "<Figure size 1000x600 with 1 Axes>"
            ]
          },
          "metadata": {},
          "output_type": "display_data"
        }
      ],
      "source": [
        "# Create the bar plot\n",
        "plt.figure(figsize=(10, 6))\n",
        "bar_plot = sns.barplot(\n",
        "    x='weather_cond',\n",
        "    y='count',\n",
        "    data=day_df,\n",
        "    hue='weather_cond',  # Assigning 'weather_cond' as hue\n",
        "    palette=[\"tab:blue\", \"tab:orange\", \"tab:green\"]  # Color palette\n",
        ")\n",
        "\n",
        "# Setting titles and labels\n",
        "plt.title('Jumlah Rata-rata Pengguna Sepeda berdasarkan Kondisi Cuaca')\n",
        "plt.xlabel('Kondisi Cuaca')\n",
        "plt.ylabel('Rata-rata Jumlah Pengguna Sepeda')\n",
        "\n",
        "# Add counts above each bar\n",
        "for p in bar_plot.patches:\n",
        "    bar_plot.annotate(f'{p.get_height():.2f}',  # Use the height of the bar\n",
        "                      (p.get_x() + p.get_width() / 2., p.get_height()), \n",
        "                      ha='center', va='bottom', \n",
        "                      fontsize=12)\n",
        "\n",
        "# Show the plot\n",
        "plt.tight_layout()\n",
        "plt.show()\n"
      ]
    },
    {
      "cell_type": "markdown",
      "metadata": {
        "id": "DgHI7CiU8DC2"
      },
      "source": [
        "### Pertanyaan 2 : Bagaimana tren penggunaan sepeda dalam tahun 2011 dan 2012 mana yang lebih unggul ?"
      ]
    },
    {
      "cell_type": "code",
      "execution_count": 125,
      "metadata": {
        "colab": {
          "base_uri": "https://localhost:8080/",
          "height": 611
        },
        "id": "Go0lCsvO8DC2",
        "outputId": "f915d892-e759-4999-fbb3-d007099d8b1d"
      },
      "outputs": [
        {
          "data": {
            "image/png": "[encoded data removed]",
            "text/plain": [
              "<Figure size 640x480 with 1 Axes>"
            ]
          },
          "metadata": {},
          "output_type": "display_data"
        }
      ],
      "source": [
        "day_df['month'] = pd.Categorical(day_df['month'], categories=\n",
        "    ['Jan','Feb','Mar','Apr','May','Jun','Jul','Aug','Sep','Oct','Nov','Dec'],\n",
        "    ordered=True)\n",
        "\n",
        "monthly_counts = day_df.groupby(by=[\"month\",\"year\"]).agg({\n",
        "    \"count\": \"sum\"\n",
        "}).reset_index()\n",
        "\n",
        "sns.lineplot(\n",
        "    data=monthly_counts,\n",
        "    x=\"month\",\n",
        "    y=\"count\",\n",
        "    hue=\"year\",\n",
        "    palette=\"rocket\",\n",
        "    marker=\"o\")\n",
        "\n",
        "plt.title(\"Jumlah total sepeda yang disewakan berdasarkan Bulan dan tahun\")\n",
        "plt.xlabel(None)\n",
        "plt.ylabel(None)\n",
        "plt.legend(title=\"Tahun\", loc=\"upper right\")\n",
        "plt.tight_layout()\n",
        "plt.show()"
      ]
    },
    {
      "cell_type": "markdown",
      "metadata": {
        "id": "moFjlBuM8EHC"
      },
      "source": [
        "### Pertanyaan 3 : Bagaimana pengaruh temp, atemp serta humidity"
      ]
    },
    {
      "cell_type": "code",
      "execution_count": 126,
      "metadata": {
        "colab": {
          "base_uri": "https://localhost:8080/",
          "height": 553
        },
        "id": "5r4Std7V8EHD",
        "outputId": "8ab85392-c1bb-4689-c333-06d1fc63591b"
      },
      "outputs": [
        {
          "data": {
            "text/plain": [
              "Text(0.5, 1.0, 'Humidity vs Count')"
            ]
          },
          "execution_count": 126,
          "metadata": {},
          "output_type": "execute_result"
        },
        {
          "data": {
            "image/png": "[encoded data removed]",
            "text/plain": [
              "<Figure size 1400x600 with 3 Axes>"
            ]
          },
          "metadata": {},
          "output_type": "display_data"
        }
      ],
      "source": [
        "plt.figure(figsize=(14, 6))\n",
        "\n",
        "# Scatter plot untuk 'temp' vs 'count'\n",
        "plt.subplot(1, 3, 1)\n",
        "sns.scatterplot(\n",
        "    x='temp',\n",
        "    y='count',\n",
        "    data=day_df,\n",
        "    alpha=0.5\n",
        ")\n",
        "plt.title('Temperature vs Count')\n",
        "\n",
        "# Scatter plot untuk 'atemp' vs 'count'\n",
        "plt.subplot(1, 3, 2)\n",
        "sns.scatterplot(\n",
        "    x='atemp',\n",
        "    y='count',\n",
        "    data=day_df,\n",
        "    alpha=0.5\n",
        ")\n",
        "plt.title('Feels Like Temperature vs Count')\n",
        "\n",
        "# Scatter plot untuk 'hum' vs 'count'\n",
        "plt.subplot(1, 3, 3)\n",
        "sns.scatterplot(\n",
        "    x='hum',\n",
        "    y='count',\n",
        "    data=day_df,\n",
        "    alpha=0.5\n",
        ")\n",
        "plt.title('Humidity vs Count')"
      ]
    },
    {
      "cell_type": "markdown",
      "metadata": {
        "id": "vPjjMozR8EwC"
      },
      "source": [
        "### Pertanyaan 4 : Apakah ada pengaruh musim terhadap penyewa sepeda baik Casual dan Registered ?"
      ]
    },
    {
      "cell_type": "code",
      "execution_count": 127,
      "metadata": {
        "colab": {
          "base_uri": "https://localhost:8080/",
          "height": 600
        },
        "id": "rGaQARFS8EwC",
        "outputId": "f149c615-5ac7-49ac-b174-03dbfdc38791"
      },
      "outputs": [
        {
          "data": {
            "image/png": "[encoded data removed]",
            "text/plain": [
              "<Figure size 1000x600 with 1 Axes>"
            ]
          },
          "metadata": {},
          "output_type": "display_data"
        }
      ],
      "source": [
        "# Mengelompokkan data berdasarkan musim dan menghitung jumlah penggunaan terdaftar dan tidak terdaftar\n",
        "seasonal_usage = day_df.groupby('season')[['registered', 'casual']].sum().reset_index()\n",
        "\n",
        "plt.figure(figsize=(10, 6))\n",
        "\n",
        "# Membuat\n",
        "plt.bar(\n",
        "    seasonal_usage['season'],\n",
        "    seasonal_usage['registered'],\n",
        "    label='Registered',\n",
        "    color='tab:blue'\n",
        ")\n",
        "\n",
        "plt.bar(\n",
        "    seasonal_usage['season'],\n",
        "    seasonal_usage['casual'],\n",
        "    label='Casual',\n",
        "    color='tab:orange'\n",
        ")\n",
        "\n",
        "plt.xlabel(None)\n",
        "plt.ylabel(None)\n",
        "plt.title('Jumlah penyewaan sepeda berdasarkan musim')\n",
        "plt.legend()\n",
        "plt.show()"
      ]
    },
    {
      "cell_type": "markdown",
      "metadata": {
        "id": "_0-36BDLklRg"
      },
      "source": [
        "**Insight**\n",
        "\n",
        "- Pertanyaan 1: Berdasarkan visualisasi data menggunakan `boxplot`, dapat disimpulkan bahwa terdapat hubungan yang jelas antara kondisi cuaca dan penyewa sepeda. Kondisi cuaca saat `cerah` atau `setengah mendung` menjadi yang paling diminati, diikuti oleh cuaca `berkabut/mendung`, sementara kondisi cuaca `sedikit bersalju/hujan` menjadi yang paling sedikit diminati.\n",
        "\n",
        "- Pertanyaan 2: Berdasarkan visualisasi di atas menggunakan `lineplot`, dapat disimpulkan bahwa tahun `2012` (yang diwakili oleh angka 1) jelas unggul baik dari Januari hingga Desember. Puncak penyewaan sepeda pada tahun 2012 terjadi pada bulan `September`, sementara bulan yang paling sepi adalah `Januari`. Di sisi lain, pada tahun `2011`, puncak penyewaan sepeda terjadi pada bulan `Juni`, dengan bulan `Januari` sebagai bulan dengan penyewaan terendah.\n",
        "\n",
        "- Pertanyaan 3: Berdasarkan hasil analisis di atas menggunakan `scatter plot`, dapat ditarik pernyataan sebagai berikut:\n",
        "    - Hubungan antara `temp` dan `count` menunjukkan korelasi positif antara dua variabel.\n",
        "    - Hubungan antara `atemp` dan `count` juga menunjukkan korelasi positif antara kedua variabel.\n",
        "    - Hubungan antara `hum` dan `count` menunjukkan korelasi sedikit negatif, tetapi tidak terlalu signifikan, karena kecenderungan ke kiri tidak terlalu nampak.\n",
        "\n",
        "      Kesimpulannya, jika temperatur (`temp` dan `atemp`) meningkat, maka pengguna sepeda juga cenderung meningkat. Pengaruh kelembaban (`humidity`) sepertinya sangat kecil di sini, meskipun cenderung dapat menurunkan jumlah pengguna sepeda.\n",
        "\n",
        "- Pertanyaan 4: Berdasarkan hasil analisis di atas menggunakan `barplot`, dapat disimpulkan bahwa di semua musim, musim yang paling dinikmati oleh para pengguna sepeda (baik `Casual` maupun `Registered`) adalah `musim gugur (Fall)`, diikuti oleh `musim panas (Summer)`, `musim dingin (Winter)`, dan diakhiri dengan `musim semi (Spring)`.\n"
      ]
    },
    {
      "cell_type": "markdown",
      "metadata": {
        "id": "_WeHlCeX8DC2"
      },
      "source": [
        "## Conclusion"
      ]
    },
    {
      "cell_type": "markdown",
      "metadata": {
        "id": "ZTcyR48Y8DC2"
      },
      "source": [
        "**Conclusion**\n",
        "\n",
        "- Kesimpulan Pertanyaan 1: Dapat terlihat jelas terdapat hubungan di antara keduanya. Para penyewa sepeda sangat menyukai cuaca `Cerah/Sedikit mendung` dengan `Q3` di atas 6000, `Q1` kurang dari 4000, serta mediannya hampir 5000. Posisi kedua ditempati oleh cuaca `Berkabut/Mendung` dengan `Q3` di atas 5000, `Q1` di bawah 3000, dan mediannya di atas 4000. Terakhir, pengguna kurang menyukai cuaca `Sedikit bersalju/Hujan` dengan `Q3` di atas 2000, `Q1` di bawah 1000, dan mediannya di atas 1000. Tidak ada data untuk kondisi cuaca `Badai Besar`, karena memang tidak memungkinkan untuk bersepeda dalam kondisi tersebut.\n",
        "\n",
        "- Kesimpulan Pertanyaan 2: Pada visualisasi kali ini, dapat kita amati perbedaan puncak dan dasar bulan pada kedua tahun, yakni `2011` dan `2012`. Puncak pada tahun 2011 terjadi pada bulan `Juni`, dan dasar pada bulan `Januari`. Sebaliknya, puncak tahun 2012 ada pada bulan `September`, dengan dasar yang sama yaitu bulan `Januari`. Dari kedua visualisasi tersebut, terlihat bahwa jumlah total sepeda yang disewakan pada tahun 2012 secara keseluruhan lebih tinggi dibandingkan dengan tahun 2011.\n",
        "\n",
        "- Kesimpulan Pertanyaan 3: Dari tiga visualisasi yang ditampilkan, dapat disimpulkan bahwa `temp` dan `atemp` memiliki korelasi positif dengan `count`. Artinya, jika temperatur (`temp` dan `atemp`) meningkat, maka jumlah pengguna sepeda juga cenderung meningkat. Sebaliknya, `Humidity` memiliki korelasi negatif dengan `count`, meskipun sangat minim (tidak terlalu signifikan), tetapi tetap dapat menurunkan jumlah pengguna sepeda ketika kelembaban meningkat.\n",
        "\n",
        "- Kesimpulan Pertanyaan 4: Pada visualisasi terakhir, hasil yang didapat cukup mengejutkan, di mana musim `Dingin (Winter)` tidak menjadi musim terakhir, melainkan musim `Semi (Spring)`. Hal ini bisa dipengaruhi oleh banyak faktor, seperti kondisi cuaca, temperatur udara, hari kerja, hari libur, dan lain-lain. Sementara itu, urutan pertama ditempati oleh musim `Gugur (Fall)`, yang mampu meraih penyewaan sepeda sebanyak lebih dari 800,000.\n"
      ]
    }
  ],
  "metadata": {
    "colab": {
      "provenance": []
    },
    "kernelspec": {
      "display_name": "Python 3",
      "language": "python",
      "name": "python3"
    },
    "language_info": {
      "codemirror_mode": {
        "name": "ipython",
        "version": 3
      },
      "file_extension": ".py",
      "mimetype": "text/x-python",
      "name": "python",
      "nbconvert_exporter": "python",
      "pygments_lexer": "ipython3",
      "version": "3.11.5"
    },
    "orig_nbformat": 4,
    "vscode": {
      "interpreter": {
        "hash": "972b3bf27e332e87b5379f2791f6ef9dfc79c71018c370b0d7423235e20fe4d7"
      }
    }
  },
  "nbformat": 4,
  "nbformat_minor": 0
}
